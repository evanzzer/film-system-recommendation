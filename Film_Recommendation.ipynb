{
  "nbformat": 4,
  "nbformat_minor": 0,
  "metadata": {
    "colab": {
      "name": "Film Recommendation.ipynb",
      "provenance": [],
      "collapsed_sections": [],
      "authorship_tag": "ABX9TyN2hU0uZDSIKdkpoGdiAWXM",
      "include_colab_link": true
    },
    "kernelspec": {
      "name": "python3",
      "display_name": "Python 3"
    },
    "language_info": {
      "name": "python"
    }
  },
  "cells": [
    {
      "cell_type": "markdown",
      "metadata": {
        "id": "view-in-github",
        "colab_type": "text"
      },
      "source": [
        "<a href=\"https://colab.research.google.com/github/evanzzer/film-system-recommendation/blob/main/Film_Recommendation.ipynb\" target=\"_parent\"><img src=\"https://colab.research.google.com/assets/colab-badge.svg\" alt=\"Open In Colab\"/></a>"
      ]
    },
    {
      "cell_type": "markdown",
      "source": [
        "# Movie Recommendation\n",
        "\n",
        "## About the Dataset\n",
        "\n",
        "These files contain metadata for all 45,000 movies listed in the Full MovieLens Dataset. The dataset consists of movies released on or before July 2017. Data points include cast, crew, plot keywords, budget, revenue, posters, release dates, languages, production companies, countries, TMDB vote counts and vote averages.\n",
        "\n",
        "This dataset also has files containing 26 million ratings from 270,000 users for all 45,000 movies. Ratings are on a scale of 1-5 and have been obtained from the official GroupLens website.\n",
        "\n",
        "## File that will be used\n",
        "\n",
        "- `movies_metadata.csv`: The main Movies Metadata file. Contains information on 45,000 movies featured in the Full MovieLens dataset. Features include posters, backdrops, budget, revenue, release dates, languages, production countries and companies.\n",
        "- `ratings_small.csv`: The subset of 100,000 ratings from 700 users on 9,000 movies. (Original Rating Dataset has 26 millions)"
      ],
      "metadata": {
        "id": "vuKsMzxMfOzn"
      }
    },
    {
      "cell_type": "markdown",
      "source": [
        "## Data Preparation"
      ],
      "metadata": {
        "id": "3AxEHqIve66c"
      }
    },
    {
      "cell_type": "markdown",
      "source": [
        "Datasets are first fetched from Kaggle"
      ],
      "metadata": {
        "id": "PngEKIfCgJYv"
      }
    },
    {
      "cell_type": "code",
      "source": [
        "from google.colab import drive\n",
        "drive.mount('/content/drive')"
      ],
      "metadata": {
        "colab": {
          "base_uri": "https://localhost:8080/"
        },
        "id": "AcTLLxolxytV",
        "outputId": "a9851a9e-5d6c-4067-d594-dd17c5145be3"
      },
      "execution_count": 1,
      "outputs": [
        {
          "output_type": "stream",
          "name": "stdout",
          "text": [
            "Mounted at /content/drive\n"
          ]
        }
      ]
    },
    {
      "cell_type": "code",
      "source": [
        "!mkdir -pv /root/.kaggle\n",
        "!cp -v /content/drive/MyDrive/kaggle.json /root/.kaggle\n",
        "!kaggle datasets download -d rounakbanik/the-movies-dataset"
      ],
      "metadata": {
        "colab": {
          "base_uri": "https://localhost:8080/"
        },
        "id": "p5FdHzZjx7zQ",
        "outputId": "88bc7284-dcd6-4c7c-ce63-13497ee2dc2a"
      },
      "execution_count": 2,
      "outputs": [
        {
          "output_type": "stream",
          "name": "stdout",
          "text": [
            "mkdir: created directory '/root/.kaggle'\n",
            "'/content/drive/MyDrive/kaggle.json' -> '/root/.kaggle/kaggle.json'\n",
            "Downloading the-movies-dataset.zip to /content\n",
            " 90% 205M/228M [00:01<00:00, 139MB/s]\n",
            "100% 228M/228M [00:02<00:00, 117MB/s]\n"
          ]
        }
      ]
    },
    {
      "cell_type": "code",
      "source": [
        "!unzip /content/the-movies-dataset.zip"
      ],
      "metadata": {
        "colab": {
          "base_uri": "https://localhost:8080/"
        },
        "id": "UmndPaMdeeQG",
        "outputId": "7e73a13b-17ed-4be3-a8bd-2a7b1b081ae7"
      },
      "execution_count": 3,
      "outputs": [
        {
          "output_type": "stream",
          "name": "stdout",
          "text": [
            "Archive:  /content/the-movies-dataset.zip\n",
            "  inflating: credits.csv             \n",
            "  inflating: keywords.csv            \n",
            "  inflating: links.csv               \n",
            "  inflating: links_small.csv         \n",
            "  inflating: movies_metadata.csv     \n",
            "  inflating: ratings.csv             \n",
            "  inflating: ratings_small.csv       \n"
          ]
        }
      ]
    },
    {
      "cell_type": "markdown",
      "source": [
        "Next, we put `movies_metadata.csv` and `ratings_small.csv` to dataframe."
      ],
      "metadata": {
        "id": "57H4vPkbgTQc"
      }
    },
    {
      "cell_type": "code",
      "source": [
        "import pandas as pd \n",
        "\n",
        "movie  = pd.read_csv('movies_metadata.csv')\n",
        "rating = pd.read_csv('ratings_small.csv')"
      ],
      "metadata": {
        "colab": {
          "base_uri": "https://localhost:8080/"
        },
        "id": "dfziTLFsgSzZ",
        "outputId": "736897b5-75ff-4bda-e93e-3368627dd40f"
      },
      "execution_count": 4,
      "outputs": [
        {
          "output_type": "stream",
          "name": "stderr",
          "text": [
            "/usr/local/lib/python3.7/dist-packages/IPython/core/interactiveshell.py:3326: DtypeWarning: Columns (10) have mixed types.Specify dtype option on import or set low_memory=False.\n",
            "  exec(code_obj, self.user_global_ns, self.user_ns)\n"
          ]
        }
      ]
    },
    {
      "cell_type": "markdown",
      "source": [
        "Now we check `movies_metadata.csv` and `ratings_small.csv` column information"
      ],
      "metadata": {
        "id": "Gl4V5uO0hYaM"
      }
    },
    {
      "cell_type": "code",
      "source": [
        "movie.info()"
      ],
      "metadata": {
        "colab": {
          "base_uri": "https://localhost:8080/"
        },
        "id": "av6IKn0mhRzv",
        "outputId": "1b5db818-aadd-46e8-d26f-b9c4ddf95a4c"
      },
      "execution_count": 5,
      "outputs": [
        {
          "output_type": "stream",
          "name": "stdout",
          "text": [
            "<class 'pandas.core.frame.DataFrame'>\n",
            "RangeIndex: 45466 entries, 0 to 45465\n",
            "Data columns (total 24 columns):\n",
            " #   Column                 Non-Null Count  Dtype  \n",
            "---  ------                 --------------  -----  \n",
            " 0   adult                  45466 non-null  object \n",
            " 1   belongs_to_collection  4494 non-null   object \n",
            " 2   budget                 45466 non-null  object \n",
            " 3   genres                 45466 non-null  object \n",
            " 4   homepage               7782 non-null   object \n",
            " 5   id                     45466 non-null  object \n",
            " 6   imdb_id                45449 non-null  object \n",
            " 7   original_language      45455 non-null  object \n",
            " 8   original_title         45466 non-null  object \n",
            " 9   overview               44512 non-null  object \n",
            " 10  popularity             45461 non-null  object \n",
            " 11  poster_path            45080 non-null  object \n",
            " 12  production_companies   45463 non-null  object \n",
            " 13  production_countries   45463 non-null  object \n",
            " 14  release_date           45379 non-null  object \n",
            " 15  revenue                45460 non-null  float64\n",
            " 16  runtime                45203 non-null  float64\n",
            " 17  spoken_languages       45460 non-null  object \n",
            " 18  status                 45379 non-null  object \n",
            " 19  tagline                20412 non-null  object \n",
            " 20  title                  45460 non-null  object \n",
            " 21  video                  45460 non-null  object \n",
            " 22  vote_average           45460 non-null  float64\n",
            " 23  vote_count             45460 non-null  float64\n",
            "dtypes: float64(4), object(20)\n",
            "memory usage: 8.3+ MB\n"
          ]
        }
      ]
    },
    {
      "cell_type": "code",
      "source": [
        "rating.info()"
      ],
      "metadata": {
        "colab": {
          "base_uri": "https://localhost:8080/"
        },
        "id": "piMRi9MzhzMB",
        "outputId": "d3e6d003-332b-4343-9f99-d3335339c855"
      },
      "execution_count": 6,
      "outputs": [
        {
          "output_type": "stream",
          "name": "stdout",
          "text": [
            "<class 'pandas.core.frame.DataFrame'>\n",
            "RangeIndex: 100004 entries, 0 to 100003\n",
            "Data columns (total 4 columns):\n",
            " #   Column     Non-Null Count   Dtype  \n",
            "---  ------     --------------   -----  \n",
            " 0   userId     100004 non-null  int64  \n",
            " 1   movieId    100004 non-null  int64  \n",
            " 2   rating     100004 non-null  float64\n",
            " 3   timestamp  100004 non-null  int64  \n",
            "dtypes: float64(1), int64(3)\n",
            "memory usage: 3.1 MB\n"
          ]
        }
      ]
    },
    {
      "cell_type": "markdown",
      "source": [
        "Check if the data is null"
      ],
      "metadata": {
        "id": "CFMKPQn9ppQV"
      }
    },
    {
      "cell_type": "code",
      "source": [
        "movie.isnull().sum()"
      ],
      "metadata": {
        "colab": {
          "base_uri": "https://localhost:8080/"
        },
        "id": "5kNPzF78prTs",
        "outputId": "33e06638-a5db-41ee-e944-5dbd6e63c58d"
      },
      "execution_count": 7,
      "outputs": [
        {
          "output_type": "execute_result",
          "data": {
            "text/plain": [
              "adult                        0\n",
              "belongs_to_collection    40972\n",
              "budget                       0\n",
              "genres                       0\n",
              "homepage                 37684\n",
              "id                           0\n",
              "imdb_id                     17\n",
              "original_language           11\n",
              "original_title               0\n",
              "overview                   954\n",
              "popularity                   5\n",
              "poster_path                386\n",
              "production_companies         3\n",
              "production_countries         3\n",
              "release_date                87\n",
              "revenue                      6\n",
              "runtime                    263\n",
              "spoken_languages             6\n",
              "status                      87\n",
              "tagline                  25054\n",
              "title                        6\n",
              "video                        6\n",
              "vote_average                 6\n",
              "vote_count                   6\n",
              "dtype: int64"
            ]
          },
          "metadata": {},
          "execution_count": 7
        }
      ]
    },
    {
      "cell_type": "code",
      "source": [
        "rating.isnull().sum()"
      ],
      "metadata": {
        "colab": {
          "base_uri": "https://localhost:8080/"
        },
        "id": "ByrlI28tpxbn",
        "outputId": "c3775d91-0d3b-4132-b259-eb58af117597"
      },
      "execution_count": 8,
      "outputs": [
        {
          "output_type": "execute_result",
          "data": {
            "text/plain": [
              "userId       0\n",
              "movieId      0\n",
              "rating       0\n",
              "timestamp    0\n",
              "dtype: int64"
            ]
          },
          "metadata": {},
          "execution_count": 8
        }
      ]
    },
    {
      "cell_type": "markdown",
      "source": [
        "## Data Processing"
      ],
      "metadata": {
        "id": "LPaXYa2rkqTk"
      }
    },
    {
      "cell_type": "markdown",
      "source": [
        "We will be using Collaborative Learning. Hence, we will only include important rows.\n",
        "\n",
        "From `movie` dataframe, we will be using `id`, `genres`, and `title`.\n",
        "\n",
        "From `rating` dataframe, we will be using `userId`, `movieId`, and `rating`."
      ],
      "metadata": {
        "id": "h63n-AJmkseK"
      }
    },
    {
      "cell_type": "code",
      "source": [
        "movie = movie[['id', 'title', 'genres']]\n",
        "movie.head()"
      ],
      "metadata": {
        "colab": {
          "base_uri": "https://localhost:8080/",
          "height": 206
        },
        "id": "DMHeRyk6kpwN",
        "outputId": "36027078-3b94-4e91-928d-d4489f013219"
      },
      "execution_count": 9,
      "outputs": [
        {
          "output_type": "execute_result",
          "data": {
            "text/plain": [
              "      id                        title  \\\n",
              "0    862                    Toy Story   \n",
              "1   8844                      Jumanji   \n",
              "2  15602             Grumpier Old Men   \n",
              "3  31357            Waiting to Exhale   \n",
              "4  11862  Father of the Bride Part II   \n",
              "\n",
              "                                              genres  \n",
              "0  [{'id': 16, 'name': 'Animation'}, {'id': 35, '...  \n",
              "1  [{'id': 12, 'name': 'Adventure'}, {'id': 14, '...  \n",
              "2  [{'id': 10749, 'name': 'Romance'}, {'id': 35, ...  \n",
              "3  [{'id': 35, 'name': 'Comedy'}, {'id': 18, 'nam...  \n",
              "4                     [{'id': 35, 'name': 'Comedy'}]  "
            ],
            "text/html": [
              "\n",
              "  <div id=\"df-38d517be-2aa7-427c-94a2-907b67bbad05\">\n",
              "    <div class=\"colab-df-container\">\n",
              "      <div>\n",
              "<style scoped>\n",
              "    .dataframe tbody tr th:only-of-type {\n",
              "        vertical-align: middle;\n",
              "    }\n",
              "\n",
              "    .dataframe tbody tr th {\n",
              "        vertical-align: top;\n",
              "    }\n",
              "\n",
              "    .dataframe thead th {\n",
              "        text-align: right;\n",
              "    }\n",
              "</style>\n",
              "<table border=\"1\" class=\"dataframe\">\n",
              "  <thead>\n",
              "    <tr style=\"text-align: right;\">\n",
              "      <th></th>\n",
              "      <th>id</th>\n",
              "      <th>title</th>\n",
              "      <th>genres</th>\n",
              "    </tr>\n",
              "  </thead>\n",
              "  <tbody>\n",
              "    <tr>\n",
              "      <th>0</th>\n",
              "      <td>862</td>\n",
              "      <td>Toy Story</td>\n",
              "      <td>[{'id': 16, 'name': 'Animation'}, {'id': 35, '...</td>\n",
              "    </tr>\n",
              "    <tr>\n",
              "      <th>1</th>\n",
              "      <td>8844</td>\n",
              "      <td>Jumanji</td>\n",
              "      <td>[{'id': 12, 'name': 'Adventure'}, {'id': 14, '...</td>\n",
              "    </tr>\n",
              "    <tr>\n",
              "      <th>2</th>\n",
              "      <td>15602</td>\n",
              "      <td>Grumpier Old Men</td>\n",
              "      <td>[{'id': 10749, 'name': 'Romance'}, {'id': 35, ...</td>\n",
              "    </tr>\n",
              "    <tr>\n",
              "      <th>3</th>\n",
              "      <td>31357</td>\n",
              "      <td>Waiting to Exhale</td>\n",
              "      <td>[{'id': 35, 'name': 'Comedy'}, {'id': 18, 'nam...</td>\n",
              "    </tr>\n",
              "    <tr>\n",
              "      <th>4</th>\n",
              "      <td>11862</td>\n",
              "      <td>Father of the Bride Part II</td>\n",
              "      <td>[{'id': 35, 'name': 'Comedy'}]</td>\n",
              "    </tr>\n",
              "  </tbody>\n",
              "</table>\n",
              "</div>\n",
              "      <button class=\"colab-df-convert\" onclick=\"convertToInteractive('df-38d517be-2aa7-427c-94a2-907b67bbad05')\"\n",
              "              title=\"Convert this dataframe to an interactive table.\"\n",
              "              style=\"display:none;\">\n",
              "        \n",
              "  <svg xmlns=\"http://www.w3.org/2000/svg\" height=\"24px\"viewBox=\"0 0 24 24\"\n",
              "       width=\"24px\">\n",
              "    <path d=\"M0 0h24v24H0V0z\" fill=\"none\"/>\n",
              "    <path d=\"M18.56 5.44l.94 2.06.94-2.06 2.06-.94-2.06-.94-.94-2.06-.94 2.06-2.06.94zm-11 1L8.5 8.5l.94-2.06 2.06-.94-2.06-.94L8.5 2.5l-.94 2.06-2.06.94zm10 10l.94 2.06.94-2.06 2.06-.94-2.06-.94-.94-2.06-.94 2.06-2.06.94z\"/><path d=\"M17.41 7.96l-1.37-1.37c-.4-.4-.92-.59-1.43-.59-.52 0-1.04.2-1.43.59L10.3 9.45l-7.72 7.72c-.78.78-.78 2.05 0 2.83L4 21.41c.39.39.9.59 1.41.59.51 0 1.02-.2 1.41-.59l7.78-7.78 2.81-2.81c.8-.78.8-2.07 0-2.86zM5.41 20L4 18.59l7.72-7.72 1.47 1.35L5.41 20z\"/>\n",
              "  </svg>\n",
              "      </button>\n",
              "      \n",
              "  <style>\n",
              "    .colab-df-container {\n",
              "      display:flex;\n",
              "      flex-wrap:wrap;\n",
              "      gap: 12px;\n",
              "    }\n",
              "\n",
              "    .colab-df-convert {\n",
              "      background-color: #E8F0FE;\n",
              "      border: none;\n",
              "      border-radius: 50%;\n",
              "      cursor: pointer;\n",
              "      display: none;\n",
              "      fill: #1967D2;\n",
              "      height: 32px;\n",
              "      padding: 0 0 0 0;\n",
              "      width: 32px;\n",
              "    }\n",
              "\n",
              "    .colab-df-convert:hover {\n",
              "      background-color: #E2EBFA;\n",
              "      box-shadow: 0px 1px 2px rgba(60, 64, 67, 0.3), 0px 1px 3px 1px rgba(60, 64, 67, 0.15);\n",
              "      fill: #174EA6;\n",
              "    }\n",
              "\n",
              "    [theme=dark] .colab-df-convert {\n",
              "      background-color: #3B4455;\n",
              "      fill: #D2E3FC;\n",
              "    }\n",
              "\n",
              "    [theme=dark] .colab-df-convert:hover {\n",
              "      background-color: #434B5C;\n",
              "      box-shadow: 0px 1px 3px 1px rgba(0, 0, 0, 0.15);\n",
              "      filter: drop-shadow(0px 1px 2px rgba(0, 0, 0, 0.3));\n",
              "      fill: #FFFFFF;\n",
              "    }\n",
              "  </style>\n",
              "\n",
              "      <script>\n",
              "        const buttonEl =\n",
              "          document.querySelector('#df-38d517be-2aa7-427c-94a2-907b67bbad05 button.colab-df-convert');\n",
              "        buttonEl.style.display =\n",
              "          google.colab.kernel.accessAllowed ? 'block' : 'none';\n",
              "\n",
              "        async function convertToInteractive(key) {\n",
              "          const element = document.querySelector('#df-38d517be-2aa7-427c-94a2-907b67bbad05');\n",
              "          const dataTable =\n",
              "            await google.colab.kernel.invokeFunction('convertToInteractive',\n",
              "                                                     [key], {});\n",
              "          if (!dataTable) return;\n",
              "\n",
              "          const docLinkHtml = 'Like what you see? Visit the ' +\n",
              "            '<a target=\"_blank\" href=https://colab.research.google.com/notebooks/data_table.ipynb>data table notebook</a>'\n",
              "            + ' to learn more about interactive tables.';\n",
              "          element.innerHTML = '';\n",
              "          dataTable['output_type'] = 'display_data';\n",
              "          await google.colab.output.renderOutput(dataTable, element);\n",
              "          const docLink = document.createElement('div');\n",
              "          docLink.innerHTML = docLinkHtml;\n",
              "          element.appendChild(docLink);\n",
              "        }\n",
              "      </script>\n",
              "    </div>\n",
              "  </div>\n",
              "  "
            ]
          },
          "metadata": {},
          "execution_count": 9
        }
      ]
    },
    {
      "cell_type": "code",
      "source": [
        "rating = rating[['userId', 'movieId', 'rating']]\n",
        "rating.head()"
      ],
      "metadata": {
        "colab": {
          "base_uri": "https://localhost:8080/",
          "height": 206
        },
        "id": "cqprmWLEh07R",
        "outputId": "9093070c-62a8-44cf-ffcf-2b7811a743e6"
      },
      "execution_count": 10,
      "outputs": [
        {
          "output_type": "execute_result",
          "data": {
            "text/plain": [
              "   userId  movieId  rating\n",
              "0       1       31     2.5\n",
              "1       1     1029     3.0\n",
              "2       1     1061     3.0\n",
              "3       1     1129     2.0\n",
              "4       1     1172     4.0"
            ],
            "text/html": [
              "\n",
              "  <div id=\"df-46b314d2-ea76-48fe-bf8c-245976a6edbf\">\n",
              "    <div class=\"colab-df-container\">\n",
              "      <div>\n",
              "<style scoped>\n",
              "    .dataframe tbody tr th:only-of-type {\n",
              "        vertical-align: middle;\n",
              "    }\n",
              "\n",
              "    .dataframe tbody tr th {\n",
              "        vertical-align: top;\n",
              "    }\n",
              "\n",
              "    .dataframe thead th {\n",
              "        text-align: right;\n",
              "    }\n",
              "</style>\n",
              "<table border=\"1\" class=\"dataframe\">\n",
              "  <thead>\n",
              "    <tr style=\"text-align: right;\">\n",
              "      <th></th>\n",
              "      <th>userId</th>\n",
              "      <th>movieId</th>\n",
              "      <th>rating</th>\n",
              "    </tr>\n",
              "  </thead>\n",
              "  <tbody>\n",
              "    <tr>\n",
              "      <th>0</th>\n",
              "      <td>1</td>\n",
              "      <td>31</td>\n",
              "      <td>2.5</td>\n",
              "    </tr>\n",
              "    <tr>\n",
              "      <th>1</th>\n",
              "      <td>1</td>\n",
              "      <td>1029</td>\n",
              "      <td>3.0</td>\n",
              "    </tr>\n",
              "    <tr>\n",
              "      <th>2</th>\n",
              "      <td>1</td>\n",
              "      <td>1061</td>\n",
              "      <td>3.0</td>\n",
              "    </tr>\n",
              "    <tr>\n",
              "      <th>3</th>\n",
              "      <td>1</td>\n",
              "      <td>1129</td>\n",
              "      <td>2.0</td>\n",
              "    </tr>\n",
              "    <tr>\n",
              "      <th>4</th>\n",
              "      <td>1</td>\n",
              "      <td>1172</td>\n",
              "      <td>4.0</td>\n",
              "    </tr>\n",
              "  </tbody>\n",
              "</table>\n",
              "</div>\n",
              "      <button class=\"colab-df-convert\" onclick=\"convertToInteractive('df-46b314d2-ea76-48fe-bf8c-245976a6edbf')\"\n",
              "              title=\"Convert this dataframe to an interactive table.\"\n",
              "              style=\"display:none;\">\n",
              "        \n",
              "  <svg xmlns=\"http://www.w3.org/2000/svg\" height=\"24px\"viewBox=\"0 0 24 24\"\n",
              "       width=\"24px\">\n",
              "    <path d=\"M0 0h24v24H0V0z\" fill=\"none\"/>\n",
              "    <path d=\"M18.56 5.44l.94 2.06.94-2.06 2.06-.94-2.06-.94-.94-2.06-.94 2.06-2.06.94zm-11 1L8.5 8.5l.94-2.06 2.06-.94-2.06-.94L8.5 2.5l-.94 2.06-2.06.94zm10 10l.94 2.06.94-2.06 2.06-.94-2.06-.94-.94-2.06-.94 2.06-2.06.94z\"/><path d=\"M17.41 7.96l-1.37-1.37c-.4-.4-.92-.59-1.43-.59-.52 0-1.04.2-1.43.59L10.3 9.45l-7.72 7.72c-.78.78-.78 2.05 0 2.83L4 21.41c.39.39.9.59 1.41.59.51 0 1.02-.2 1.41-.59l7.78-7.78 2.81-2.81c.8-.78.8-2.07 0-2.86zM5.41 20L4 18.59l7.72-7.72 1.47 1.35L5.41 20z\"/>\n",
              "  </svg>\n",
              "      </button>\n",
              "      \n",
              "  <style>\n",
              "    .colab-df-container {\n",
              "      display:flex;\n",
              "      flex-wrap:wrap;\n",
              "      gap: 12px;\n",
              "    }\n",
              "\n",
              "    .colab-df-convert {\n",
              "      background-color: #E8F0FE;\n",
              "      border: none;\n",
              "      border-radius: 50%;\n",
              "      cursor: pointer;\n",
              "      display: none;\n",
              "      fill: #1967D2;\n",
              "      height: 32px;\n",
              "      padding: 0 0 0 0;\n",
              "      width: 32px;\n",
              "    }\n",
              "\n",
              "    .colab-df-convert:hover {\n",
              "      background-color: #E2EBFA;\n",
              "      box-shadow: 0px 1px 2px rgba(60, 64, 67, 0.3), 0px 1px 3px 1px rgba(60, 64, 67, 0.15);\n",
              "      fill: #174EA6;\n",
              "    }\n",
              "\n",
              "    [theme=dark] .colab-df-convert {\n",
              "      background-color: #3B4455;\n",
              "      fill: #D2E3FC;\n",
              "    }\n",
              "\n",
              "    [theme=dark] .colab-df-convert:hover {\n",
              "      background-color: #434B5C;\n",
              "      box-shadow: 0px 1px 3px 1px rgba(0, 0, 0, 0.15);\n",
              "      filter: drop-shadow(0px 1px 2px rgba(0, 0, 0, 0.3));\n",
              "      fill: #FFFFFF;\n",
              "    }\n",
              "  </style>\n",
              "\n",
              "      <script>\n",
              "        const buttonEl =\n",
              "          document.querySelector('#df-46b314d2-ea76-48fe-bf8c-245976a6edbf button.colab-df-convert');\n",
              "        buttonEl.style.display =\n",
              "          google.colab.kernel.accessAllowed ? 'block' : 'none';\n",
              "\n",
              "        async function convertToInteractive(key) {\n",
              "          const element = document.querySelector('#df-46b314d2-ea76-48fe-bf8c-245976a6edbf');\n",
              "          const dataTable =\n",
              "            await google.colab.kernel.invokeFunction('convertToInteractive',\n",
              "                                                     [key], {});\n",
              "          if (!dataTable) return;\n",
              "\n",
              "          const docLinkHtml = 'Like what you see? Visit the ' +\n",
              "            '<a target=\"_blank\" href=https://colab.research.google.com/notebooks/data_table.ipynb>data table notebook</a>'\n",
              "            + ' to learn more about interactive tables.';\n",
              "          element.innerHTML = '';\n",
              "          dataTable['output_type'] = 'display_data';\n",
              "          await google.colab.output.renderOutput(dataTable, element);\n",
              "          const docLink = document.createElement('div');\n",
              "          docLink.innerHTML = docLinkHtml;\n",
              "          element.appendChild(docLink);\n",
              "        }\n",
              "      </script>\n",
              "    </div>\n",
              "  </div>\n",
              "  "
            ]
          },
          "metadata": {},
          "execution_count": 10
        }
      ]
    },
    {
      "cell_type": "markdown",
      "source": [
        "The `genres` is in JSON format and we only want to extract the `name` part. Hence, we will be converting from JSON into String"
      ],
      "metadata": {
        "id": "DpdMT1-0lYfB"
      }
    },
    {
      "cell_type": "code",
      "source": [
        "import json\n",
        "\n",
        "def convertGenre(string):\n",
        "    genres = json.loads(string.replace(\"'\", '\"'))\n",
        "    parsed_genres = [genre[\"name\"] for genre in genres]\n",
        "    return \", \".join(parsed_genres)\n",
        "\n",
        "genres = movie.pop('genres').tolist()\n",
        "movie['genres'] = [convertGenre(x) for x in genres]\n",
        "movie.head()"
      ],
      "metadata": {
        "colab": {
          "base_uri": "https://localhost:8080/",
          "height": 206
        },
        "id": "v_De_Cc2lXQd",
        "outputId": "0769cc94-cf28-4337-8d00-19dd9ddb5d7e"
      },
      "execution_count": 11,
      "outputs": [
        {
          "output_type": "execute_result",
          "data": {
            "text/plain": [
              "      id                        title                      genres\n",
              "0    862                    Toy Story   Animation, Comedy, Family\n",
              "1   8844                      Jumanji  Adventure, Fantasy, Family\n",
              "2  15602             Grumpier Old Men             Romance, Comedy\n",
              "3  31357            Waiting to Exhale      Comedy, Drama, Romance\n",
              "4  11862  Father of the Bride Part II                      Comedy"
            ],
            "text/html": [
              "\n",
              "  <div id=\"df-a6e7cc08-919a-4961-ac01-ea44515ec04d\">\n",
              "    <div class=\"colab-df-container\">\n",
              "      <div>\n",
              "<style scoped>\n",
              "    .dataframe tbody tr th:only-of-type {\n",
              "        vertical-align: middle;\n",
              "    }\n",
              "\n",
              "    .dataframe tbody tr th {\n",
              "        vertical-align: top;\n",
              "    }\n",
              "\n",
              "    .dataframe thead th {\n",
              "        text-align: right;\n",
              "    }\n",
              "</style>\n",
              "<table border=\"1\" class=\"dataframe\">\n",
              "  <thead>\n",
              "    <tr style=\"text-align: right;\">\n",
              "      <th></th>\n",
              "      <th>id</th>\n",
              "      <th>title</th>\n",
              "      <th>genres</th>\n",
              "    </tr>\n",
              "  </thead>\n",
              "  <tbody>\n",
              "    <tr>\n",
              "      <th>0</th>\n",
              "      <td>862</td>\n",
              "      <td>Toy Story</td>\n",
              "      <td>Animation, Comedy, Family</td>\n",
              "    </tr>\n",
              "    <tr>\n",
              "      <th>1</th>\n",
              "      <td>8844</td>\n",
              "      <td>Jumanji</td>\n",
              "      <td>Adventure, Fantasy, Family</td>\n",
              "    </tr>\n",
              "    <tr>\n",
              "      <th>2</th>\n",
              "      <td>15602</td>\n",
              "      <td>Grumpier Old Men</td>\n",
              "      <td>Romance, Comedy</td>\n",
              "    </tr>\n",
              "    <tr>\n",
              "      <th>3</th>\n",
              "      <td>31357</td>\n",
              "      <td>Waiting to Exhale</td>\n",
              "      <td>Comedy, Drama, Romance</td>\n",
              "    </tr>\n",
              "    <tr>\n",
              "      <th>4</th>\n",
              "      <td>11862</td>\n",
              "      <td>Father of the Bride Part II</td>\n",
              "      <td>Comedy</td>\n",
              "    </tr>\n",
              "  </tbody>\n",
              "</table>\n",
              "</div>\n",
              "      <button class=\"colab-df-convert\" onclick=\"convertToInteractive('df-a6e7cc08-919a-4961-ac01-ea44515ec04d')\"\n",
              "              title=\"Convert this dataframe to an interactive table.\"\n",
              "              style=\"display:none;\">\n",
              "        \n",
              "  <svg xmlns=\"http://www.w3.org/2000/svg\" height=\"24px\"viewBox=\"0 0 24 24\"\n",
              "       width=\"24px\">\n",
              "    <path d=\"M0 0h24v24H0V0z\" fill=\"none\"/>\n",
              "    <path d=\"M18.56 5.44l.94 2.06.94-2.06 2.06-.94-2.06-.94-.94-2.06-.94 2.06-2.06.94zm-11 1L8.5 8.5l.94-2.06 2.06-.94-2.06-.94L8.5 2.5l-.94 2.06-2.06.94zm10 10l.94 2.06.94-2.06 2.06-.94-2.06-.94-.94-2.06-.94 2.06-2.06.94z\"/><path d=\"M17.41 7.96l-1.37-1.37c-.4-.4-.92-.59-1.43-.59-.52 0-1.04.2-1.43.59L10.3 9.45l-7.72 7.72c-.78.78-.78 2.05 0 2.83L4 21.41c.39.39.9.59 1.41.59.51 0 1.02-.2 1.41-.59l7.78-7.78 2.81-2.81c.8-.78.8-2.07 0-2.86zM5.41 20L4 18.59l7.72-7.72 1.47 1.35L5.41 20z\"/>\n",
              "  </svg>\n",
              "      </button>\n",
              "      \n",
              "  <style>\n",
              "    .colab-df-container {\n",
              "      display:flex;\n",
              "      flex-wrap:wrap;\n",
              "      gap: 12px;\n",
              "    }\n",
              "\n",
              "    .colab-df-convert {\n",
              "      background-color: #E8F0FE;\n",
              "      border: none;\n",
              "      border-radius: 50%;\n",
              "      cursor: pointer;\n",
              "      display: none;\n",
              "      fill: #1967D2;\n",
              "      height: 32px;\n",
              "      padding: 0 0 0 0;\n",
              "      width: 32px;\n",
              "    }\n",
              "\n",
              "    .colab-df-convert:hover {\n",
              "      background-color: #E2EBFA;\n",
              "      box-shadow: 0px 1px 2px rgba(60, 64, 67, 0.3), 0px 1px 3px 1px rgba(60, 64, 67, 0.15);\n",
              "      fill: #174EA6;\n",
              "    }\n",
              "\n",
              "    [theme=dark] .colab-df-convert {\n",
              "      background-color: #3B4455;\n",
              "      fill: #D2E3FC;\n",
              "    }\n",
              "\n",
              "    [theme=dark] .colab-df-convert:hover {\n",
              "      background-color: #434B5C;\n",
              "      box-shadow: 0px 1px 3px 1px rgba(0, 0, 0, 0.15);\n",
              "      filter: drop-shadow(0px 1px 2px rgba(0, 0, 0, 0.3));\n",
              "      fill: #FFFFFF;\n",
              "    }\n",
              "  </style>\n",
              "\n",
              "      <script>\n",
              "        const buttonEl =\n",
              "          document.querySelector('#df-a6e7cc08-919a-4961-ac01-ea44515ec04d button.colab-df-convert');\n",
              "        buttonEl.style.display =\n",
              "          google.colab.kernel.accessAllowed ? 'block' : 'none';\n",
              "\n",
              "        async function convertToInteractive(key) {\n",
              "          const element = document.querySelector('#df-a6e7cc08-919a-4961-ac01-ea44515ec04d');\n",
              "          const dataTable =\n",
              "            await google.colab.kernel.invokeFunction('convertToInteractive',\n",
              "                                                     [key], {});\n",
              "          if (!dataTable) return;\n",
              "\n",
              "          const docLinkHtml = 'Like what you see? Visit the ' +\n",
              "            '<a target=\"_blank\" href=https://colab.research.google.com/notebooks/data_table.ipynb>data table notebook</a>'\n",
              "            + ' to learn more about interactive tables.';\n",
              "          element.innerHTML = '';\n",
              "          dataTable['output_type'] = 'display_data';\n",
              "          await google.colab.output.renderOutput(dataTable, element);\n",
              "          const docLink = document.createElement('div');\n",
              "          docLink.innerHTML = docLinkHtml;\n",
              "          element.appendChild(docLink);\n",
              "        }\n",
              "      </script>\n",
              "    </div>\n",
              "  </div>\n",
              "  "
            ]
          },
          "metadata": {},
          "execution_count": 11
        }
      ]
    },
    {
      "cell_type": "markdown",
      "source": [
        "Check movie total data and movie unique data"
      ],
      "metadata": {
        "id": "rS_lCQnWpi17"
      }
    },
    {
      "cell_type": "code",
      "source": [
        "print(f\"Total Data : {len(movie)}\")\n",
        "print(f\"Unique Data: {len(movie.id.unique())}\")"
      ],
      "metadata": {
        "colab": {
          "base_uri": "https://localhost:8080/"
        },
        "id": "1ze9xiWUsPV6",
        "outputId": "052bba73-bf29-4ab4-d1a1-57cec1bbcd25"
      },
      "execution_count": 12,
      "outputs": [
        {
          "output_type": "stream",
          "name": "stdout",
          "text": [
            "Total Data : 45466\n",
            "Unique Data: 45436\n"
          ]
        }
      ]
    },
    {
      "cell_type": "markdown",
      "source": [
        "There is some duplicates in the data. Therefore, we need to clean the duplicates."
      ],
      "metadata": {
        "id": "c81cCcOGtkAo"
      }
    },
    {
      "cell_type": "code",
      "source": [
        "movie = movie.drop_duplicates('id')\n",
        "print(f\"Total Unique Data after cleaning duplicates: {len(movie)}\")"
      ],
      "metadata": {
        "colab": {
          "base_uri": "https://localhost:8080/"
        },
        "id": "xjw2fkPItq6Q",
        "outputId": "29eeeb40-7d9c-4349-efbb-954a248f70de"
      },
      "execution_count": 13,
      "outputs": [
        {
          "output_type": "stream",
          "name": "stdout",
          "text": [
            "Total Unique Data after cleaning duplicates: 45436\n"
          ]
        }
      ]
    },
    {
      "cell_type": "markdown",
      "source": [
        "Now we want to list movie that is also exist in Rating, and vice versa. Therefore, we want to filter so that `movieId` in `rating` and `id` in `movie` are both exists."
      ],
      "metadata": {
        "id": "CzFSUHgZar39"
      }
    },
    {
      "cell_type": "code",
      "source": [
        "# Filter movie dataset so that only movieId in rating is exist in movie dataset\n",
        "movie = movie[movie['id'].isin(rating.movieId.map(lambda x: str(x)))]\n",
        "print(f\"Filtered Movie Dataset : {movie.shape[0]}\")\n",
        "\n",
        "# Filter rating dataset so that only id in movie is exist in rating dataset\n",
        "rating = rating[rating['movieId'].isin(movie.id.map(lambda x: int(x)))]\n",
        "print(f\"Filtered Rating Dataset: {rating.shape[0]}\")"
      ],
      "metadata": {
        "id": "sFhKlJTkGyYK",
        "colab": {
          "base_uri": "https://localhost:8080/"
        },
        "outputId": "a9895ea0-d819-4784-a066-d9e9c1c04a4a"
      },
      "execution_count": 14,
      "outputs": [
        {
          "output_type": "stream",
          "name": "stdout",
          "text": [
            "Filtered Movie Dataset : 2830\n",
            "Filtered Rating Dataset: 44989\n"
          ]
        }
      ]
    },
    {
      "cell_type": "markdown",
      "source": [
        "The data is now containing only IDs that we want to process. Now we can proceed into developing the model by using Collaborative Learning."
      ],
      "metadata": {
        "id": "eZOxlDdcuwaD"
      }
    },
    {
      "cell_type": "markdown",
      "source": [
        "## Model Development"
      ],
      "metadata": {
        "id": "L7_fxd4WvTF9"
      }
    },
    {
      "cell_type": "markdown",
      "source": [
        "Before we model our data, we need to process everything to make sure the model can be made. We first process all unique values in `userId` and `movieId`"
      ],
      "metadata": {
        "id": "YYq8iL7YxTGj"
      }
    },
    {
      "cell_type": "code",
      "source": [
        "# Make list of Unique User ID\n",
        "user_ids = rating['userId'].unique().tolist()\n",
        "\n",
        "print(f\"List  ID: {user_ids}\")\n",
        "print(f\"Total ID: {len(user_ids)}\")\n",
        "\n",
        "# Encoded User ID\n",
        "user_to_user_encoded = {x: i for i, x in enumerate(user_ids)}\n",
        "\n",
        "# Decoded User ID\n",
        "user_encoded_to_user = {i: x for i, x in enumerate(user_ids)}"
      ],
      "metadata": {
        "colab": {
          "base_uri": "https://localhost:8080/"
        },
        "id": "B3YS1eL-uvZO",
        "outputId": "abccd0cc-08bf-444c-c608-b09c735ae336"
      },
      "execution_count": 15,
      "outputs": [
        {
          "output_type": "stream",
          "name": "stdout",
          "text": [
            "List  ID: [1, 2, 3, 4, 5, 6, 7, 8, 9, 10, 11, 12, 13, 14, 15, 16, 17, 18, 19, 20, 21, 22, 23, 24, 25, 26, 27, 28, 29, 30, 31, 32, 33, 34, 35, 36, 37, 38, 39, 40, 41, 42, 43, 44, 45, 46, 47, 48, 49, 50, 51, 52, 53, 54, 55, 56, 57, 58, 59, 60, 61, 62, 63, 64, 65, 66, 67, 68, 69, 70, 71, 72, 73, 74, 75, 76, 77, 78, 79, 80, 81, 82, 83, 84, 85, 86, 87, 88, 89, 90, 91, 92, 93, 94, 95, 96, 97, 98, 99, 100, 101, 102, 103, 104, 105, 106, 107, 108, 109, 110, 111, 112, 113, 114, 115, 116, 117, 118, 119, 120, 121, 122, 123, 124, 125, 126, 127, 128, 129, 130, 131, 132, 133, 134, 135, 136, 137, 138, 139, 140, 141, 142, 143, 144, 145, 146, 147, 148, 149, 150, 151, 152, 153, 154, 155, 156, 157, 158, 159, 160, 161, 162, 163, 164, 165, 166, 167, 168, 169, 170, 171, 172, 173, 174, 175, 176, 177, 178, 179, 180, 181, 182, 183, 184, 185, 186, 187, 188, 189, 190, 191, 192, 193, 194, 195, 196, 197, 198, 199, 200, 201, 202, 203, 204, 205, 206, 207, 208, 209, 210, 211, 212, 213, 214, 215, 216, 217, 218, 219, 220, 221, 222, 223, 224, 225, 226, 227, 228, 229, 230, 231, 232, 233, 234, 235, 236, 237, 238, 239, 240, 241, 242, 243, 244, 245, 246, 247, 248, 249, 250, 251, 252, 253, 254, 255, 256, 257, 258, 259, 260, 261, 262, 263, 264, 265, 266, 267, 268, 269, 270, 271, 272, 273, 274, 275, 276, 277, 278, 279, 280, 281, 282, 283, 284, 285, 286, 287, 288, 289, 290, 291, 292, 293, 294, 295, 296, 297, 298, 299, 300, 301, 302, 303, 304, 305, 306, 307, 308, 309, 310, 311, 312, 313, 314, 315, 316, 317, 318, 319, 320, 321, 322, 323, 324, 325, 326, 327, 328, 329, 330, 331, 332, 333, 334, 335, 336, 337, 338, 339, 340, 341, 342, 343, 344, 345, 346, 347, 348, 349, 350, 351, 352, 353, 354, 355, 356, 357, 358, 359, 360, 361, 362, 363, 364, 365, 366, 367, 368, 369, 370, 371, 372, 373, 374, 375, 376, 377, 378, 379, 380, 381, 382, 383, 384, 385, 386, 387, 388, 389, 390, 391, 392, 393, 394, 395, 396, 397, 398, 399, 400, 401, 402, 403, 404, 405, 406, 407, 408, 409, 410, 411, 412, 413, 414, 415, 416, 417, 418, 419, 420, 421, 422, 423, 424, 425, 426, 427, 428, 429, 430, 431, 432, 433, 434, 435, 436, 437, 438, 439, 440, 441, 442, 443, 444, 445, 446, 447, 448, 449, 450, 451, 452, 453, 454, 455, 456, 457, 458, 459, 460, 461, 462, 463, 464, 465, 466, 467, 468, 469, 470, 471, 472, 473, 474, 475, 476, 477, 478, 479, 480, 481, 482, 483, 484, 485, 486, 487, 488, 489, 490, 491, 492, 493, 494, 495, 496, 497, 498, 499, 500, 501, 502, 503, 504, 505, 506, 507, 508, 509, 510, 511, 512, 513, 514, 515, 516, 517, 518, 519, 520, 521, 522, 523, 524, 525, 526, 527, 528, 529, 530, 531, 532, 533, 534, 535, 536, 537, 538, 539, 540, 541, 542, 543, 544, 545, 546, 547, 548, 549, 550, 551, 552, 553, 554, 555, 556, 557, 558, 559, 560, 561, 562, 563, 564, 565, 566, 567, 568, 569, 570, 571, 572, 573, 574, 575, 576, 577, 578, 579, 580, 581, 582, 583, 584, 585, 586, 587, 588, 589, 590, 591, 592, 593, 594, 595, 596, 597, 598, 599, 600, 601, 602, 603, 604, 605, 606, 607, 608, 609, 610, 611, 612, 613, 614, 615, 616, 617, 618, 619, 620, 621, 622, 623, 624, 625, 626, 627, 628, 629, 630, 631, 632, 633, 634, 635, 636, 637, 638, 639, 640, 641, 642, 643, 644, 645, 646, 647, 648, 649, 650, 651, 652, 653, 654, 655, 656, 657, 658, 659, 660, 661, 662, 663, 664, 665, 666, 667, 668, 669, 670, 671]\n",
            "Total ID: 671\n"
          ]
        }
      ]
    },
    {
      "cell_type": "markdown",
      "source": [
        "Encoding `userId` is done. Next, we will be processing `movieId`."
      ],
      "metadata": {
        "id": "QBu3QJX9w2eb"
      }
    },
    {
      "cell_type": "code",
      "source": [
        "# Make list of Unique Movie ID\n",
        "movie_ids = rating['movieId'].map(lambda x: str(x)).unique().tolist()\n",
        "print(f\"List  ID: {movie_ids}\")\n",
        "print(f\"Total ID: {len(movie_ids)}\")\n",
        "\n",
        "# Encoded Movie ID\n",
        "movie_to_movie_encoded = {x: i for i, x in enumerate(movie_ids)}\n",
        "\n",
        "# Decoded Movie ID\n",
        "movie_encoded_to_movie = {i: x for i, x in enumerate(movie_ids)}"
      ],
      "metadata": {
        "colab": {
          "base_uri": "https://localhost:8080/"
        },
        "id": "Aruka_U6xvQ3",
        "outputId": "d4e81272-6f32-468d-e715-c1c48f566fa9"
      },
      "execution_count": 16,
      "outputs": [
        {
          "output_type": "stream",
          "name": "stdout",
          "text": [
            "List  ID: ['1371', '1405', '2105', '2193', '2294', '2455', '17', '62', '110', '144', '150', '153', '161', '165', '168', '185', '186', '222', '223', '225', '235', '248', '253', '261', '265', '266', '272', '273', '292', '296', '300', '314', '317', '319', '339', '349', '350', '364', '377', '405', '410', '454', '457', '468', '480', '497', '500', '508', '509', '527', '537', '539', '550', '551', '552', '585', '586', '587', '588', '590', '592', '593', '616', '661', '247', '267', '318', '595', '778', '866', '1271', '1378', '1580', '1721', '1884', '2028', '2694', '2762', '2841', '2959', '44191', '58559', '112', '141', '173', '260', '289', '329', '380', '431', '434', '435', '440', '442', '464', '541', '594', '596', '858', '903', '910', '913', '919', '1073', '1089', '1125', '1127', '1213', '1257', '1259', '1265', '1278', '1282', '1285', '1372', '1374', '1376', '1377', '1380', '1387', '1396', '1544', '1858', '1917', '1918', '1954', '1961', '1967', '1968', '1994', '2000', '2002', '2003', '2005', '2014', '2018', '2020', '2021', '2033', '2034', '2046', '2054', '2064', '2078', '2080', '2085', '2086', '2087', '2091', '2094', '2100', '2102', '2109', '2110', '2114', '2115', '2124', '2140', '2141', '2143', '2144', '2161', '2263', '2268', '2289', '2348', '2371', '2454', '2616', '2640', '2699', '2734', '2770', '2788', '2791', '3016', '3034', '3040', '3060', '3101', '3104', '3210', '3', '104', '231', '277', '344', '597', '788', '1247', '1393', '1485', '1682', '1777', '1923', '1997', '2023', '2355', '2502', '3114', '3176', '4025', '4995', '5816', '5995', '6373', '8464', '30707', '30793', '33166', '40819', '41566', '41569', '48385', '111', '158', '293', '1250', '1358', '1639', '1687', '1909', '2001', '2019', '2072', '2528', '2657', '2692', '2761', '2890', '3052', '4641', '4975', '7090', '8368', '8874', '21', '198', '207', '316', '333', '345', '534', '671', '708', '745', '780', '786', '924', '1373', '1375', '1394', '1408', '524', '543', '628', '805', '1552', '2139', '2302', '2324', '3578', '4011', '4034', '4226', '4886', '4896', '4973', '4993', '5064', '8873', '43871', '44004', '26', '608', '1059', '1411', '1541', '1584', '1680', '2125', '2291', '2501', '2539', '152', '1499', '1611', '1690', '1719', '1887', '2108', '2907', '2926', '3019', '70', '169', '923', '2042', '26614', '91548', '97938', '673', '1732', '2259', '2460', '2668', '3146', '3179', '3780', '3865', '531', '914', '3396', '2038', '2861', '3175', '2', '5', '6', '11', '14', '16', '19', '22', '25', '82', '95', '101', '107', '123', '145', '149', '157', '160', '162', '163', '164', '170', '172', '175', '176', '180', '193', '196', '214', '215', '216', '232', '233', '237', '246', '252', '288', '306', '307', '308', '322', '335', '342', '429', '441', '466', '471', '481', '483', '494', '535', '540', '549', '562', '574', '647', '648', '663', '665', '674', '680', '750', '762', '784', '799', '800', '802', '803', '804', '832', '836', '851', '899', '909', '911', '912', '916', '920', '922', '926', '931', '953', '994', '1088', '1092', '1093', '1244', '1246', '1248', '1249', '1251', '1252', '1254', '1260', '1262', '1266', '1267', '1272', '1280', '1281', '1283', '1284', '1361', '1370', '1391', '1407', '1479', '1483', '1484', '1546', '1556', '1562', '1573', '1589', '1597', '1608', '1610', '1615', '1616', '1635', '1644', '1645', '1649', '1653', '1673', '1676', '1689', '1694', '1717', '1722', '1729', '1735', '1779', '1792', '1807', '1810', '1816', '1831', '1834', '1836', '1845', '1859', '1882', '1883', '1895', '1904', '1912', '1914', '1921', '1945', '1950', '1955', '1956', '1964', '2006', '2010', '2011', '2012', '2058', '2133', '2134', '2160', '2186', '2232', '2269', '2282', '2288', '2313', '2321', '2333', '2334', '2357', '2360', '2395', '2428', '2447', '2574', '2575', '2594', '2605', '2617', '2648', '2671', '2701', '2722', '2759', '2769', '2912', '2925', '2973', '2976', '2990', '2993', '3004', '3007', '3010', '3030', '3033', '3077', '3081', '3082', '3083', '3089', '3107', '3134', '3160', '3168', '3173', '3418', '3476', '3484', '3489', '3512', '3527', '3536', '3543', '3556', '3577', '3598', '3635', '3638', '3683', '3763', '3786', '3981', '3989', '4148', '4232', '4235', '4247', '4271', '4344', '4351', '4369', '4380', '4546', '4638', '4639', '4643', '4658', '4701', '4723', '4727', '4728', '4734', '4816', '4823', '4958', '4974', '4979', '4992', '5000', '5060', '5066', '5071', '5279', '5319', '5458', '5481', '5528', '5618', '5620', '5902', '5956', '5968', '5991', '6003', '6016', '6037', '6283', '6440', '6537', '6547', '6552', '6593', '6620', '6641', '6934', '6936', '6947', '6957', '6961', '6978', '7008', '7010', '7346', '7348', '7445', '7451', '7484', '8011', '8366', '8645', '8665', '8914', '8930', '8948', '8961', '8970', '8974', '8984', '26131', '26152', '26587', '26810', '27904', '30810', '31685', '31696', '34334', '35957', '36529', '38061', '40815', '42718', '44555', '45186', '45722', '46578', '46972', '46976', '47610', '48780', '51540', '54001', '54272', '54503', '55765', '59126', '63859', '65642', '67087', '68954', '69406', '69526', '70862', '71282', '74458', '77561', '81229', '81782', '81847', '83613', '83827', '84152', '84954', '85414', '86190', '86332', '88744', '88950', '89337', '89492', '90603', '93840', '94478', '94959', '98122', '100032', '101362', '104211', '104241', '107406', '110553', '111443', '111759', '122924', '130452', '132961', '134368', '140174', '142507', '158238', '337', '4772', '194', '348', '482', '492', '714', '928', '942', '965', '1245', '1255', '1627', '1809', '2067', '2117', '2118', '2204', '2892', '4437', '4552', '4645', '5062', '5072', '5137', '5608', '5686', '5881', '6538', '6643', '8195', '8690', '8973', '8983', '27317', '27721', '27834', '31410', '31952', '18', '74', '76', '79', '81', '85', '86', '92', '100', '140', '640', '653', '707', '765', '818', '849', '880', '35', '58', '63', '64', '89', '97', '105', '122', '154', '159', '166', '177', '179', '206', '229', '249', '262', '269', '276', '281', '326', '332', '334', '340', '346', '379', '383', '407', '423', '428', '445', '451', '465', '475', '479', '493', '501', '504', '507', '513', '522', '547', '580', '599', '612', '662', '703', '891', '898', '902', '917', '929', '940', '950', '951', '954', '955', '966', '968', '982', '1023', '1090', '1091', '1103', '1124', '1126', '1253', '1268', '1269', '1381', '1382', '1389', '1441', '4970', '905', '1907', '2013', '2690', '5747', '26111', '31116', '47721', '393', '553', '918', '921', '948', '1427', '315', '1641', '2459', '4105', '7454', '31184', '20', '24', '224', '236', '425', '532', '605', '668', '670', '841', '900', '949', '1277', '1835', '1873', '1900', '1927', '1931', '1941', '1944', '1946', '1947', '1949', '1951', '1957', '1958', '1959', '2022', '2132', '2176', '2721', '2728', '2731', '2805', '3053', '3088', '3159', '3405', '3681', '4267', '4564', '4857', '4967', '4978', '5147', '5177', '5470', '5971', '6404', '6415', '6591', '7088', '7234', '7347', '7942', '8338', '8656', '8966', '25753', '25769', '26242', '31658', '34326', '37736', '39183', '39231', '40629', '41571', '41863', '42418', '42734', '78', '842', '69', '27376', '37731', '49530', '53129', '55167', '59387', '73', '1892', '1366', '2202', '2300', '2470', '2662', '5065', '118', '203', '227', '228', '254', '424', '426', '459', '523', '581', '767', '782', '806', '869', '947', '996', '1018', '1114', '1422', '1440', '1488', '1523', '1566', '1588', '1598', '1620', '1624', '1672', '1686', '1701', '1726', '1783', '1785', '1791', '1965', '2009', '2015', '2024', '2082', '2088', '2112', '2116', '2122', '2148', '2166', '2252', '2253', '2255', '2264', '2267', '2286', '2307', '2320', '2433', '2457', '2463', '2517', '2577', '2611', '2639', '2642', '2687', '2749', '2750', '2757', '2787', '2929', '2966', '2977', '2989', '3035', '3063', '3072', '3074', '3087', '3102', '3111', '3144', '3426', '3478', '3483', '3513', '3526', '3529', '3537', '3549', '3686', '3701', '4012', '4111', '4146', '4228', '4291', '4326', '4464', '4474', '4482', '4486', '4488', '4495', '4498', '4499', '4627', '4628', '4629', '4709', '4710', '4787', '4832', '4889', '4929', '4932', '4951', '4954', '4960', '5061', '5122', '5125', '5172', '5187', '5237', '5247', '5334', '5335', '5471', '5506', '5544', '5548', '5680', '5689', '5707', '5723', '5729', '5742', '5846', '5854', '5857', '5900', '5923', '5927', '5961', '6103', '6318', '6436', '6473', '1416', '3698', '204', '88', '1359', '1984', '2107', '2891', '4248', '4251', '4483', '4558', '4652', '4809', '4956', '4988', '5483', '678', '2527', '3062', '838', '55', '68', '147', '242', '256', '312', '321', '381', '469', '521', '1367', '2075', '6107', '8197', '220', '285', '330', '338', '606', '327', '986', '1591', '1772', '1880', '2322', '3479', '3593', '3699', '3937', '4443', '4553', '4789', '6116', '6264', '6951', '8371', '837', '2004', '2978', '3515', '3525', '135', '637', '2153', '2383', '5146', '8906', '8965', '26776', '27523', '27850', '30867', '32031', '32562', '41769', '44022', '44974', '45431', '46948', '47099', '47404', '48414', '50583', '50601', '52458', '53121', '53519', '53883', '56095', '56339', '59118', '62956', '62999', '64983', '67255', '71520', '73881', '80831', '82667', '83132', '84187', '84772', '84944', '85510', '85788', '95375', '96821', '103299', '103688', '110501', '258', '303', '421', '688', '897', '976', '2287', '2669', '2748', '2817', '1636', '1888', '1948', '1969', '6058', '31408', '37727', '238', '392', '1911', '1995', '2093', '3178', '48660', '65', '609', '761', '250', '3079', '3086', '3480', '4771', '33495', '33660', '34528', '54256', '65188', '72720', '84116', '86000', '88812', '90374', '90376', '100272', '107978', '635', '1587', '1975', '1977', '1978', '1979', '1987', '1996', '2044', '2097', '2111', '2163', '415', '2016', '2180', '8981', '801', '2123', '5693', '27706', '56171', '104374', '120637', '12', '28', '279', '280', '294', '452', '613', '631', '650', '664', '694', '709', '711', '934', '2469', '2779', '31374', '2059', '4254', '667', '704', '810', '839', '3125', '3966', '53000', '15', '98', '239', '409', '502', '510', '575', '742', '1049', '1590', '1595', '1599', '1826', '1840', '1920', '1991', '2089', '2142', '2164', '2195', '2335', '2798', '2860', '2900', '2924', '2974', '3013', '3036', '3554', '3573', '3574', '3581', '3687', '3962', '4255', '4415', '4441', '4519', '4614', '4989', '5040', '5055', '5139', '5165', '5205', '5691', '5955', '6615', '6977', '7007', '7984', '8340', '8363', '8372', '8373', '8810', '8854', '8859', '26258', '26480', '26547', '26603', '26606', '26736', '26842', '27022', '27646', '27793', '31150', '31225', '32387', '32596', '34530', '36519', '39446', '40574', '40732', '42011', '42725', '43838', '43919', '43936', '44245', '45726', '46335', '47200', '48591', '49526', '50641', '50794', '51277', '52462', '53318', '54648', '55207', '55245', '55721', '56801', '58293', '58301', '59995', '60293', '61348', '62394', '63540', '63876', '64197', '64508', '64900', '65310', '66066', '68444', '69746', '72733', '74545', '74944', '74948', '77866', '79008', '79553', '79720', '80219', '81660', '89774', '92309', '93855', '95963', '103048', '107999', '109074', '114060', '115877', '8985', '42002', '44694', '2275', '3397', '26700', '31221', '37857', '47423', '47518', '1586', '2297', '6793', '26712', '38499', '50658', '51935', '52767', '42738', '93', '156', '783', '872', '1913', '4928', '7979', '8014', '8199', '8327', '8367', '26326', '26578', '31524', '31930', '43899', '45000', '52528', '52885', '205', '2155', '2359', '3022', '3037', '4174', '4688', '5602', '3980', '234', '255', '275', '291', '437', '546', '548', '30', '116', '121', '124', '171', '178', '213', '218', '287', '290', '299', '302', '331', '427', '568', '633', '753', '756', '766', '828', '830', '844', '892', '1163', '1554', '747', '43836', '54732', '78041', '94466', '116977', '455', '54328', '174', '879', '1655', '1970', '1985', '1988', '2026', '2069', '2119', '2149', '2462', '2789', '2928', '3024', '3051', '3764', '3877', '4140', '4266', '4480', '4516', '4520', '4561', '4949', '5203', '8094', '8128', '8765', '25868', '30712', '25801', '56949', '1619', '1937', '2099', '2135', '2436', '2442', '2565', '26701', '117', '506', '927', '1273', '1279', '1420', '1535', '1594', '1648', '1734', '1788', '1841', '1924', '1939', '1966', '1999', '2043', '2290', '2312', '2362', '2397', '2453', '2764', '3011', '3061', '3093', '3145', '3469', '3511', '3547', '3565', '3591', '71', '4475', '8093', '84844', '458', '1392', '1480', '1727', '1846', '3127', '3682', '4203', '4234', '4479', '4837', '5302', '1992', '5422', '39408', '54281', '132', '257', '378', '489', '542', '932', '1593', '1688', '1863', '2330', '5255', '6183', '6974', '43396', '1683', '2349', '2613', '870', '881', '943', '1379', '1429', '1613', '1646', '1678', '1702', '1713', '1824', '1833', '1848', '1852', '1885', '1894', '2071', '2104', '2440', '2587', '3563', '4195', '1976', '66659', '217', '313', '558', '1487', '1667', '2017', '2162', '2620', '3594', '4977', '5677', '2151', '8879', '40959', '4031', '4964', '8012', '27255', '39768', '57243', '43376', '73290', '53953', '27', '102', '754', '6535', '1537', '89904', '4290', '2262', '39414', '1665', '56152', '90061', '103539', '544', '809', '829', '2567', '3509', '8010', '8968', '27338', '47491', '760', '1498', '1572', '2363', '31364', '32078', '42632', '58376', '80350', '86320', '4327', '490', '92751', '26974', '470', '834', '1430', '1632', '1661', '2979', '4968', '5562', '5765', '7343', '8130', '8832', '8835', '8836', '8839', '8860', '8870', '8908', '8937', '9010', '31445', '259', '391', '505', '639', '274', '8643', '8982', '26198', '42732', '1542', '199', '2077', '2084', '4459', '5460', '5839', '3054', '27815', '36401', '43419', '59333', '63276', '86835', '94480', '66', '200', '240', '422', '512', '600', '691', '798', '861', '1647', '700', '13', '146', '195', '201', '243', '271', '343', '687', '705', '6187', '8129', '26116', '26133', '26422', '27674', '40826', '43177', '49280', '61401', '62437', '867', '1024', '1623', '2771', '2882', '3001', '3177', '3766', '2310', '3117', '957', '944', '1583', '1938', '2182', '2988', '3076', '3122', '3427', '3432', '3115', '3118', '5876', '1165', '3576', '4887', '26554', '27922', '32825', '33558', '51357', '58432', '59810', '63481', '69278', '73211', '84601', '85025', '26686', '42015', '57353', '74946', '8827', '1998', '4566', '5910', '8838', '8899', '98491', '779', '26564', '70121', '1993', '627', '630', '685', '781', '848', '991', '3936', '5421', '5994', '7303', '8833', '8935', '8998', '26680', '31694', '39435', '43908', '43930', '49957', '55872', '56715', '57326', '4676', '8814', '32029', '37380', '42721', '47952', '50162', '54276', '59421', '64116', '70282', '71254', '72701', '74154', '74580', '79224', '81512', '86059', '92681', '2984', '8008', '414', '824', '1643', '1844', '2487', '3539', '901', '935', '938', '946', '956', '1936', '1940', '1942', '2612', '2927', '3580', '3716', '113', '103', '347', '698', '37853', '56156', '473', '888', '936', '961', '984', '1162', '1419', '2241', '2370', '2899', '3028', '3090', '3520', '45928', '4880', '2200', '3097', '3632', '5333', '6609', '7210', '7211', '8584', '25952', '105246', '387', '433', '476', '1495', '2266', '2331', '4180', '6877', '554', '695', '1404', '3109', '3110', '219', '6474', '533', '692', '833', '4338', '4339', '4923', '4990', '72356', '184', '846', '2897', '55253', '25771', '2652', '3075', '3777', '3875', '4368', '4893', '5153', '8194', '8848', '25774', '25807', '26125', '26171', '26176', '26320', '26631', '26693', '27329', '31270', '31502', '32686', '32728', '33592', '33817', '40833', '45662', '48231', '52666', '53435', '71700', '80844', '92496', '97593', '105763', '110748', '112655', '114044', '121113', '4972', '8337', '499', '4593', '1633', '2969', '2972', '3171', '1934', '2654', '25750', '31156', '85367', '68659', '80241', '108548', '105593', '80', '401', '615', '759', '5899', '7091', '7840', '7944', '8989', '7456', '7459', '8951', '1581', '1626', '2325', '577', '1592', '2525', '6163', '42191', '59392', '93061', '941', '8341', '3078', '4587', '4584', '619', '907', '1363', '2039', '2045', '2048', '2057', '2168', '3604', '4024', '4133', '4141', '4169', '4912', '5038', '5048', '5168', '5375', '6182', '6414', '6646', '6723', '6970', '7294', '7916', '8460', '8916', '8986', '8988', '8999', '26386', '31026', '8884', '32302', '8275', '78321', '74727', '107412', '488', '1652', '4518', '4612', '5473', '5780', '6114', '8872', '8892', '8893', '8923', '8938', '25744', '26655', '26809', '27322', '31682', '33138', '40226', '50011', '62764', '77291', '87884', '92424', '95752', '7300', '30846', '278', '436', '453', '1963', '2171', '2546', '26513', '27899', '31923', '83', '155', '408', '603', '962', '964', '992', '1398', '1417', '1600', '2079', '4462', '4478', '4704', '5601', '5718', '6466', '6470', '6477', '6498', '6521', '6522', '6636', '7085', '7305', '7980', '8009', '8463', '8487', '8617', '8618', '8672', '8745', '8850', '8880', '8920', '8929', '9005', '32139', '99', '187', '363', '896', '1123', '1875', '8831', '8963', '45210', '115210', '127098', '5879', '301', '389', '1428', '4191', '4539', '74510', '6883', '36527', '268', '632', '850', '981', '876', '2625', '4442', '4952', '5833', '26865', '31804', '1050', '2438', '1444', '32456', '98604', '2516', '5558', '5678', '26555', '31162', '40723', '43904', '710', '1414', '1629', '1642', '1837', '2095', '2098', '2261', '3043', '3600', '4296', '2486', '2894', '4680', '4705', '4706', '7093', '8689', '37720', '4349', '91690', '1922', '2246', '104863', '134569', '438', '8871', '8931', '39398', '40946', '48319', '49396', '51091', '58156', '71668', '71732', '72308', '81537', '84154', '89072', '91094', '93498', '98369', '100450', '697', '2197', '988', '8866', '45221', '46919', '46967', '48791', '61123', '78101', '990', '1497', '5915', '33688', '48596', '49314', '50189', '52717', '53999', '55261', '939', '1926', '1933', '2212', '2981', '3423', '467', '787', '2169', '2280', '2610', '3902', '4965', '5425', '32298', '49961', '813', '1410', '96', '1596', '5820', '5917', '5850', '6077', '6644', '8491', '25874', '26009', '26268', '26342', '26366', '26425', '27351', '27857', '31921', '42783', '54910', '69974', '70846', '84312', '241', '3934', '69069', '112767', '148652', '4885', '2207', '2621', '4806', '4933', '5622', '5651', '5801', '6078', '6166', '6461', '8675', '8933', '388', '1730', '1870', '2029', '309', '1051', '1919', '439', '4550', '4578', '5646', '511', '4347', '31427', '31903', '27397', '58306', '64032', '72479', '75341', '2165', '4252', '4375', '4722', '6935', '6945', '26599', '33838', '55069', '58191', '68347', '72386', '91673', '4822', '8915', '26509', '42013', '48522', '679', '816', '1609', '755', '1669', '4043', '4529', '59', '27873', '43869', '5056', '5121', '80717', '1865', '460', '1896', '2007', '2752', '3103', '3784', '4171', '4274', '4279', '4644', '4703', '4836', '4921', '4925', '5051', '5241', '5248', '5353', '6639', '6950', '6963', '7095', '7096', '7450', '8332', '8987', '26178', '31035', '31700', '107081', '390', '886', '5002', '7012', '69784', '1621', '6476', '42728', '4543', '2062', '2154', '620', '963', '2210', '3309', '3640', '4515', '4998', '5001', '5434', '7983', '8267', '8336', '8840', '8882', '25752', '25755', '25764', '25993', '26302', '26391', '26850', '27816', '30723', '30892', '31547', '31549', '31770', '32160', '33380', '34583', '38304', '44671', '47714', '48301', '49225', '51044', '54419', '55063', '55687', '62383', '80572', '83361', '25763', '26393', '43391', '211', '659', '769', '1413', '2609', '3057', '3133', '5256', '5825', '5965', '26172', '32582', '1903', '51939', '58655', '78088', '118900', '44511', '65216', '90888', '702', '5179', '26574', '31973', '32444', '49299', '63179', '64278', '85394', '103210', '130980', '131830', '2636', '2637', '2649', '2758', '77', '559', '573', '681', '690', '793', '820', '854', '1365', '1369', '1406', '1415', '1654', '496', '43267', '59143', '1878', '4798', '7216', '567', '864', '889', '987', '1482', '1631', '1660', '2323', '2441', '4961', '6279', '8927', '696', '845', '1040', '2753', '38', '320', '251', '87', '564', '840', '885', '1433', '1812', '1874', '1902', '2292', '2566', '2786', '2898', '3048', '3112', '128846', '81831', '91628', '95949', '651', '4911', '8208', '808', '2074', '2493', '8016', '8785', '25898', '26325', '31522', '32234', '112460', '61361', '626', '3064', '875', '4241', '31413', '64499', '64501', '121491', '2239', '746', '2049', '2056', '2260', '2755', '3121', '4108', '4175', '4281', '4523', '4927', '4948', '5521', '5638', '5966', '6105', '6341', '6964', '7131', '7182', '7219', '7872', '8056', '8266', '8388', '8392', '8410', '8420', '8422', '8462', '8583', '8768', '8851', '9012', '25773', '25795', '25842', '25900', '25904', '25941', '26010', '26147', '26180', '26199', '26251', '26271', '26323', '26350', '26371', '26430', '26467', '26505', '26581', '26622', '26689', '26694', '26782', '26797', '26838', '31104', '33358', '37211', '39779', '40817', '41714', '42740', '43333', '43351', '43635', '43708', '44864', '45179', '45679', '45987', '47261', '47330', '47493', '48268', '49220', '52913', '54220', '55156', '55895', '58365', '58904', '67429', '69559', '70418', '80346', '84847', '97936', '101904', '109161', '112582', '112735', '114464', '128606', '134881', '160718', '336', '114', '582', '2152', '59429', '2998', '3055', '3116', '4201', '49013', '108', '137', '183', '189', '244', '526', '561', '565', '571', '614', '621', '775', '831', '980', '1493', '1543', '1549', '1550', '1640', '1696', '1715', '1731', '1771', '1891', '1986', '1989', '1990', '2047', '2055', '2189', '2295', '2655', '2754', '2767', '2800', '2982', '3021', '3041', '3587', '3692', '3938', '3941', '148', '1555', '3025', '3602', '3870', '5063', '5227', '26005', '26317', '26702', '26886', '27441', '32395', '43832', '46772', '59935', '60760', '2191', '5413', '54768', '27724', '32666', '36931', '51927', '4173', '6073', '7299', '8779', '8954', '25852', '26663', '27768', '2284', '8070', '33124', '2661', '2923', '5503', '5516', '7453', '47122', '54734', '86817', '111913', '764', '757', '865', '1901', '2832', '617', '1164', '1450', '1539', '1563', '1571', '1819', '2008', '3003', '4538', '4592', '4930', '4984', '5236', '78174', '4104', '7340', '27544', '2887', '3031', '3596', '3933', '4233', '4477', '8290', '8447', '8743', '26750', '31000', '49688', '55294', '70984', '75803', '81949', '86593', '91325', '91470', '91873', '95508', '95744', '99106', '99846', '102165', '103502', '105121', '105254', '108949', '126420', '130450', '133365', '134158', '135536', '638', '245', '6022', '6884', '7011', '8273', '26947', '27875', '48856', '57845', '3575', '8453', '8699', '26791', '26843', '60086', '69495', '79163', '89870', '100017', '103731', '106417', '127728', '129009', '2103', '167', '563', '129']\n",
            "Total ID: 2830\n"
          ]
        }
      ]
    },
    {
      "cell_type": "markdown",
      "source": [
        "Next, we map the `userId` and `movieId` to the dataframe by mapping them with the encoded respective code."
      ],
      "metadata": {
        "id": "wyhMcRs2zt3m"
      }
    },
    {
      "cell_type": "code",
      "source": [
        "rating['user'] = rating['userId'].map(user_to_user_encoded)\n",
        "rating['movie'] = rating['movieId'].map(lambda x: str(x)).map(movie_to_movie_encoded)"
      ],
      "metadata": {
        "id": "gp7LvrwFyNSS",
        "colab": {
          "base_uri": "https://localhost:8080/"
        },
        "outputId": "d6799d46-7408-4417-81c6-5a62380a02d3"
      },
      "execution_count": 17,
      "outputs": [
        {
          "output_type": "stream",
          "name": "stderr",
          "text": [
            "/usr/local/lib/python3.7/dist-packages/ipykernel_launcher.py:1: SettingWithCopyWarning: \n",
            "A value is trying to be set on a copy of a slice from a DataFrame.\n",
            "Try using .loc[row_indexer,col_indexer] = value instead\n",
            "\n",
            "See the caveats in the documentation: https://pandas.pydata.org/pandas-docs/stable/user_guide/indexing.html#returning-a-view-versus-a-copy\n",
            "  \"\"\"Entry point for launching an IPython kernel.\n",
            "/usr/local/lib/python3.7/dist-packages/ipykernel_launcher.py:2: SettingWithCopyWarning: \n",
            "A value is trying to be set on a copy of a slice from a DataFrame.\n",
            "Try using .loc[row_indexer,col_indexer] = value instead\n",
            "\n",
            "See the caveats in the documentation: https://pandas.pydata.org/pandas-docs/stable/user_guide/indexing.html#returning-a-view-versus-a-copy\n",
            "  \n"
          ]
        }
      ]
    },
    {
      "cell_type": "markdown",
      "source": [
        "Now we want to find out the minimum and the maximum of the rating."
      ],
      "metadata": {
        "id": "cMx4u4Ub0GTD"
      }
    },
    {
      "cell_type": "code",
      "source": [
        "min_rating = min(rating['rating'])\n",
        "max_rating = max(rating['rating'])\n",
        "print(f\"Min Rating: {min_rating}, Max Rating: {max_rating}\")"
      ],
      "metadata": {
        "colab": {
          "base_uri": "https://localhost:8080/"
        },
        "id": "Edc6aROG0Y74",
        "outputId": "faaec02d-6383-44e2-8dfd-dc19c4d3e140"
      },
      "execution_count": 18,
      "outputs": [
        {
          "output_type": "stream",
          "name": "stdout",
          "text": [
            "Min Rating: 0.5, Max Rating: 5.0\n"
          ]
        }
      ]
    },
    {
      "cell_type": "markdown",
      "source": [
        "Now we can determine the x and the y values."
      ],
      "metadata": {
        "id": "12wCEcn20mLR"
      }
    },
    {
      "cell_type": "code",
      "source": [
        "x = rating[['user', 'movie']].values\n",
        "y = rating['rating'].apply(lambda x: (x - min_rating) / (max_rating - min_rating)).values"
      ],
      "metadata": {
        "id": "ehY56mq60yd1"
      },
      "execution_count": 19,
      "outputs": []
    },
    {
      "cell_type": "markdown",
      "source": [
        "We split the train and test data into 4:1 proportions."
      ],
      "metadata": {
        "id": "IFhwkUrW1GwC"
      }
    },
    {
      "cell_type": "code",
      "source": [
        "train_indices = int(0.8 * rating.shape[0])\n",
        "x_train, x_val, y_train, y_val = (\n",
        "    x[:train_indices],\n",
        "    x[train_indices:],\n",
        "    y[:train_indices],\n",
        "    y[train_indices:]\n",
        ")\n",
        " \n",
        "print(x, y)"
      ],
      "metadata": {
        "colab": {
          "base_uri": "https://localhost:8080/"
        },
        "id": "jr5m7QYn1Er_",
        "outputId": "464fbc57-541b-41b8-e2ce-4f660622bce0"
      },
      "execution_count": 20,
      "outputs": [
        {
          "output_type": "stream",
          "name": "stdout",
          "text": [
            "[[  0   0]\n",
            " [  0   1]\n",
            " [  0   2]\n",
            " ...\n",
            " [670 578]\n",
            " [670 581]\n",
            " [670 204]] [0.44444444 0.11111111 0.77777778 ... 0.66666667 0.88888889 0.77777778]\n"
          ]
        }
      ]
    },
    {
      "cell_type": "markdown",
      "source": [
        "The data is now ready to be modeled. Next, we move on to the training process."
      ],
      "metadata": {
        "id": "JzN2Tpil1UTC"
      }
    },
    {
      "cell_type": "markdown",
      "source": [
        "## Training"
      ],
      "metadata": {
        "id": "bG8oX7qa1Z7g"
      }
    },
    {
      "cell_type": "markdown",
      "source": [
        "We first define the layers that will be needed for training"
      ],
      "metadata": {
        "id": "Ju_NT9B51bjJ"
      }
    },
    {
      "cell_type": "code",
      "source": [
        "import tensorflow as tf\n",
        "from tensorflow import keras\n",
        "from tensorflow.keras import layers\n",
        "\n",
        "class RecommenderNet(tf.keras.Model):\n",
        " \n",
        "    # Insialisasi fungsi\n",
        "    def __init__(self, num_users, num_movie, embedding_size, **kwargs):\n",
        "        super(RecommenderNet, self).__init__(**kwargs)\n",
        "        self.num_users = num_users\n",
        "        self.num_movie = num_movie\n",
        "        self.embedding_size = embedding_size\n",
        "\n",
        "        # User Embedded Layer\n",
        "        self.user_embedding = layers.Embedding( \n",
        "            num_users,\n",
        "            embedding_size,\n",
        "            embeddings_initializer = 'he_normal',\n",
        "            embeddings_regularizer = keras.regularizers.l2(1e-6)\n",
        "        )\n",
        "        self.user_bias = layers.Embedding(num_users, 1)   # User Embedded Layer Bias\n",
        "\n",
        "        # Movie Embedded Layer\n",
        "        self.movie_embedding = layers.Embedding(\n",
        "            num_movie,\n",
        "            embedding_size,\n",
        "            embeddings_initializer = 'he_normal',\n",
        "            embeddings_regularizer = keras.regularizers.l2(1e-6)\n",
        "        )\n",
        "        self.movie_bias = layers.Embedding(num_movie, 1)  # Movie Embedded Layer Bias\n",
        " \n",
        "    def call(self, inputs):\n",
        "        user_vector = self.user_embedding(inputs[:,0])    # Call Embedded Layer #1\n",
        "        user_bias = self.user_bias(inputs[:, 0])          # Call Embedded Layer #2\n",
        "        movie_vector = self.movie_embedding(inputs[:, 1]) # Call Embedded Layer #3\n",
        "        movie_bias = self.movie_bias(inputs[:, 1])        # Call Embedded Layer #4\n",
        "    \n",
        "        dot_user_movie = tf.tensordot(user_vector, movie_vector, 2) \n",
        "    \n",
        "        x = dot_user_movie + user_bias + movie_bias\n",
        "        \n",
        "        return tf.nn.sigmoid(x) # sigmoid activation"
      ],
      "metadata": {
        "id": "K79NE-Se1ZZ6"
      },
      "execution_count": 21,
      "outputs": []
    },
    {
      "cell_type": "markdown",
      "source": [
        "Now we compile our model with `BinaryCrossentropy()` Loss Function, `Adam()` optimizer with `lr=1e-3` and `RMS Error` metrics."
      ],
      "metadata": {
        "id": "y9393INz2ll9"
      }
    },
    {
      "cell_type": "code",
      "source": [
        "model = RecommenderNet(len(user_ids), len(movie_ids), 50)\n",
        "\n",
        "model.compile(\n",
        "    loss = tf.keras.losses.BinaryCrossentropy(),\n",
        "    optimizer = tf.keras.optimizers.Adam(learning_rate=1e-3),\n",
        "    metrics = [tf.keras.metrics.RootMeanSquaredError()]\n",
        ")"
      ],
      "metadata": {
        "id": "PZbWXkAw28dA"
      },
      "execution_count": 22,
      "outputs": []
    },
    {
      "cell_type": "markdown",
      "source": [
        "Now we can start our training"
      ],
      "metadata": {
        "id": "4tp7EOsx3ivX"
      }
    },
    {
      "cell_type": "code",
      "source": [
        "history = model.fit(\n",
        "    x = x_train,\n",
        "    y = y_train,\n",
        "    batch_size = 32,\n",
        "    epochs = 100,\n",
        "    validation_data = (x_val, y_val)\n",
        ")"
      ],
      "metadata": {
        "colab": {
          "base_uri": "https://localhost:8080/"
        },
        "id": "r6jWrPEn3Sox",
        "outputId": "1920c30a-8ffe-4a5c-f53e-a3cc1626a482"
      },
      "execution_count": 23,
      "outputs": [
        {
          "output_type": "stream",
          "name": "stdout",
          "text": [
            "Epoch 1/100\n",
            "1125/1125 [==============================] - 5s 3ms/step - loss: 0.6429 - root_mean_squared_error: 0.2498 - val_loss: 0.6781 - val_root_mean_squared_error: 0.2847\n",
            "Epoch 2/100\n",
            "1125/1125 [==============================] - 3s 3ms/step - loss: 0.6103 - root_mean_squared_error: 0.2174 - val_loss: 0.6727 - val_root_mean_squared_error: 0.2801\n",
            "Epoch 3/100\n",
            "1125/1125 [==============================] - 4s 3ms/step - loss: 0.6024 - root_mean_squared_error: 0.2093 - val_loss: 0.6676 - val_root_mean_squared_error: 0.2756\n",
            "Epoch 4/100\n",
            "1125/1125 [==============================] - 3s 3ms/step - loss: 0.5986 - root_mean_squared_error: 0.2055 - val_loss: 0.6645 - val_root_mean_squared_error: 0.2728\n",
            "Epoch 5/100\n",
            "1125/1125 [==============================] - 4s 3ms/step - loss: 0.5959 - root_mean_squared_error: 0.2027 - val_loss: 0.6615 - val_root_mean_squared_error: 0.2702\n",
            "Epoch 6/100\n",
            "1125/1125 [==============================] - 3s 3ms/step - loss: 0.5948 - root_mean_squared_error: 0.2014 - val_loss: 0.6592 - val_root_mean_squared_error: 0.2682\n",
            "Epoch 7/100\n",
            "1125/1125 [==============================] - 3s 3ms/step - loss: 0.5932 - root_mean_squared_error: 0.1998 - val_loss: 0.6576 - val_root_mean_squared_error: 0.2668\n",
            "Epoch 8/100\n",
            "1125/1125 [==============================] - 3s 3ms/step - loss: 0.5928 - root_mean_squared_error: 0.1992 - val_loss: 0.6563 - val_root_mean_squared_error: 0.2656\n",
            "Epoch 9/100\n",
            "1125/1125 [==============================] - 6s 5ms/step - loss: 0.5917 - root_mean_squared_error: 0.1982 - val_loss: 0.6550 - val_root_mean_squared_error: 0.2644\n",
            "Epoch 10/100\n",
            "1125/1125 [==============================] - 7s 6ms/step - loss: 0.5903 - root_mean_squared_error: 0.1967 - val_loss: 0.6536 - val_root_mean_squared_error: 0.2631\n",
            "Epoch 11/100\n",
            "1125/1125 [==============================] - 7s 6ms/step - loss: 0.5902 - root_mean_squared_error: 0.1964 - val_loss: 0.6528 - val_root_mean_squared_error: 0.2624\n",
            "Epoch 12/100\n",
            "1125/1125 [==============================] - 6s 6ms/step - loss: 0.5890 - root_mean_squared_error: 0.1951 - val_loss: 0.6518 - val_root_mean_squared_error: 0.2615\n",
            "Epoch 13/100\n",
            "1125/1125 [==============================] - 4s 3ms/step - loss: 0.5888 - root_mean_squared_error: 0.1949 - val_loss: 0.6509 - val_root_mean_squared_error: 0.2607\n",
            "Epoch 14/100\n",
            "1125/1125 [==============================] - 4s 3ms/step - loss: 0.5891 - root_mean_squared_error: 0.1950 - val_loss: 0.6503 - val_root_mean_squared_error: 0.2602\n",
            "Epoch 15/100\n",
            "1125/1125 [==============================] - 5s 5ms/step - loss: 0.5883 - root_mean_squared_error: 0.1941 - val_loss: 0.6500 - val_root_mean_squared_error: 0.2599\n",
            "Epoch 16/100\n",
            "1125/1125 [==============================] - 5s 5ms/step - loss: 0.5878 - root_mean_squared_error: 0.1937 - val_loss: 0.6496 - val_root_mean_squared_error: 0.2596\n",
            "Epoch 17/100\n",
            "1125/1125 [==============================] - 4s 3ms/step - loss: 0.5873 - root_mean_squared_error: 0.1931 - val_loss: 0.6492 - val_root_mean_squared_error: 0.2592\n",
            "Epoch 18/100\n",
            "1125/1125 [==============================] - 3s 3ms/step - loss: 0.5874 - root_mean_squared_error: 0.1931 - val_loss: 0.6485 - val_root_mean_squared_error: 0.2585\n",
            "Epoch 19/100\n",
            "1125/1125 [==============================] - 3s 3ms/step - loss: 0.5877 - root_mean_squared_error: 0.1934 - val_loss: 0.6482 - val_root_mean_squared_error: 0.2582\n",
            "Epoch 20/100\n",
            "1125/1125 [==============================] - 4s 3ms/step - loss: 0.5880 - root_mean_squared_error: 0.1937 - val_loss: 0.6475 - val_root_mean_squared_error: 0.2576\n",
            "Epoch 21/100\n",
            "1125/1125 [==============================] - 4s 3ms/step - loss: 0.5868 - root_mean_squared_error: 0.1925 - val_loss: 0.6475 - val_root_mean_squared_error: 0.2575\n",
            "Epoch 22/100\n",
            "1125/1125 [==============================] - 4s 3ms/step - loss: 0.5870 - root_mean_squared_error: 0.1926 - val_loss: 0.6474 - val_root_mean_squared_error: 0.2575\n",
            "Epoch 23/100\n",
            "1125/1125 [==============================] - 3s 3ms/step - loss: 0.5864 - root_mean_squared_error: 0.1919 - val_loss: 0.6467 - val_root_mean_squared_error: 0.2568\n",
            "Epoch 24/100\n",
            "1125/1125 [==============================] - 4s 3ms/step - loss: 0.5873 - root_mean_squared_error: 0.1928 - val_loss: 0.6462 - val_root_mean_squared_error: 0.2563\n",
            "Epoch 25/100\n",
            "1125/1125 [==============================] - 4s 3ms/step - loss: 0.5867 - root_mean_squared_error: 0.1923 - val_loss: 0.6456 - val_root_mean_squared_error: 0.2557\n",
            "Epoch 26/100\n",
            "1125/1125 [==============================] - 3s 3ms/step - loss: 0.5866 - root_mean_squared_error: 0.1921 - val_loss: 0.6449 - val_root_mean_squared_error: 0.2551\n",
            "Epoch 27/100\n",
            "1125/1125 [==============================] - 3s 3ms/step - loss: 0.5860 - root_mean_squared_error: 0.1915 - val_loss: 0.6448 - val_root_mean_squared_error: 0.2549\n",
            "Epoch 28/100\n",
            "1125/1125 [==============================] - 4s 3ms/step - loss: 0.5867 - root_mean_squared_error: 0.1922 - val_loss: 0.6446 - val_root_mean_squared_error: 0.2547\n",
            "Epoch 29/100\n",
            "1125/1125 [==============================] - 4s 3ms/step - loss: 0.5857 - root_mean_squared_error: 0.1911 - val_loss: 0.6450 - val_root_mean_squared_error: 0.2552\n",
            "Epoch 30/100\n",
            "1125/1125 [==============================] - 5s 5ms/step - loss: 0.5861 - root_mean_squared_error: 0.1915 - val_loss: 0.6444 - val_root_mean_squared_error: 0.2546\n",
            "Epoch 31/100\n",
            "1125/1125 [==============================] - 4s 3ms/step - loss: 0.5860 - root_mean_squared_error: 0.1914 - val_loss: 0.6440 - val_root_mean_squared_error: 0.2542\n",
            "Epoch 32/100\n",
            "1125/1125 [==============================] - 4s 3ms/step - loss: 0.5859 - root_mean_squared_error: 0.1913 - val_loss: 0.6432 - val_root_mean_squared_error: 0.2534\n",
            "Epoch 33/100\n",
            "1125/1125 [==============================] - 3s 3ms/step - loss: 0.5864 - root_mean_squared_error: 0.1918 - val_loss: 0.6432 - val_root_mean_squared_error: 0.2534\n",
            "Epoch 34/100\n",
            "1125/1125 [==============================] - 3s 3ms/step - loss: 0.5856 - root_mean_squared_error: 0.1910 - val_loss: 0.6430 - val_root_mean_squared_error: 0.2532\n",
            "Epoch 35/100\n",
            "1125/1125 [==============================] - 4s 3ms/step - loss: 0.5860 - root_mean_squared_error: 0.1913 - val_loss: 0.6427 - val_root_mean_squared_error: 0.2529\n",
            "Epoch 36/100\n",
            "1125/1125 [==============================] - 4s 3ms/step - loss: 0.5855 - root_mean_squared_error: 0.1908 - val_loss: 0.6426 - val_root_mean_squared_error: 0.2528\n",
            "Epoch 37/100\n",
            "1125/1125 [==============================] - 3s 3ms/step - loss: 0.5865 - root_mean_squared_error: 0.1919 - val_loss: 0.6421 - val_root_mean_squared_error: 0.2523\n",
            "Epoch 38/100\n",
            "1125/1125 [==============================] - 4s 3ms/step - loss: 0.5859 - root_mean_squared_error: 0.1912 - val_loss: 0.6416 - val_root_mean_squared_error: 0.2519\n",
            "Epoch 39/100\n",
            "1125/1125 [==============================] - 4s 3ms/step - loss: 0.5858 - root_mean_squared_error: 0.1911 - val_loss: 0.6413 - val_root_mean_squared_error: 0.2515\n",
            "Epoch 40/100\n",
            "1125/1125 [==============================] - 3s 3ms/step - loss: 0.5858 - root_mean_squared_error: 0.1912 - val_loss: 0.6414 - val_root_mean_squared_error: 0.2516\n",
            "Epoch 41/100\n",
            "1125/1125 [==============================] - 3s 3ms/step - loss: 0.5851 - root_mean_squared_error: 0.1904 - val_loss: 0.6412 - val_root_mean_squared_error: 0.2514\n",
            "Epoch 42/100\n",
            "1125/1125 [==============================] - 3s 3ms/step - loss: 0.5860 - root_mean_squared_error: 0.1913 - val_loss: 0.6409 - val_root_mean_squared_error: 0.2511\n",
            "Epoch 43/100\n",
            "1125/1125 [==============================] - 3s 3ms/step - loss: 0.5856 - root_mean_squared_error: 0.1909 - val_loss: 0.6406 - val_root_mean_squared_error: 0.2508\n",
            "Epoch 44/100\n",
            "1125/1125 [==============================] - 3s 3ms/step - loss: 0.5852 - root_mean_squared_error: 0.1905 - val_loss: 0.6402 - val_root_mean_squared_error: 0.2504\n",
            "Epoch 45/100\n",
            "1125/1125 [==============================] - 4s 3ms/step - loss: 0.5850 - root_mean_squared_error: 0.1904 - val_loss: 0.6403 - val_root_mean_squared_error: 0.2505\n",
            "Epoch 46/100\n",
            "1125/1125 [==============================] - 6s 5ms/step - loss: 0.5852 - root_mean_squared_error: 0.1905 - val_loss: 0.6397 - val_root_mean_squared_error: 0.2500\n",
            "Epoch 47/100\n",
            "1125/1125 [==============================] - 4s 3ms/step - loss: 0.5861 - root_mean_squared_error: 0.1913 - val_loss: 0.6399 - val_root_mean_squared_error: 0.2501\n",
            "Epoch 48/100\n",
            "1125/1125 [==============================] - 4s 3ms/step - loss: 0.5852 - root_mean_squared_error: 0.1906 - val_loss: 0.6396 - val_root_mean_squared_error: 0.2498\n",
            "Epoch 49/100\n",
            "1125/1125 [==============================] - 4s 3ms/step - loss: 0.5849 - root_mean_squared_error: 0.1901 - val_loss: 0.6394 - val_root_mean_squared_error: 0.2495\n",
            "Epoch 50/100\n",
            "1125/1125 [==============================] - 4s 3ms/step - loss: 0.5849 - root_mean_squared_error: 0.1903 - val_loss: 0.6390 - val_root_mean_squared_error: 0.2491\n",
            "Epoch 51/100\n",
            "1125/1125 [==============================] - 4s 3ms/step - loss: 0.5857 - root_mean_squared_error: 0.1910 - val_loss: 0.6386 - val_root_mean_squared_error: 0.2488\n",
            "Epoch 52/100\n",
            "1125/1125 [==============================] - 4s 3ms/step - loss: 0.5855 - root_mean_squared_error: 0.1908 - val_loss: 0.6387 - val_root_mean_squared_error: 0.2488\n",
            "Epoch 53/100\n",
            "1125/1125 [==============================] - 4s 3ms/step - loss: 0.5849 - root_mean_squared_error: 0.1901 - val_loss: 0.6384 - val_root_mean_squared_error: 0.2486\n",
            "Epoch 54/100\n",
            "1125/1125 [==============================] - 5s 5ms/step - loss: 0.5851 - root_mean_squared_error: 0.1903 - val_loss: 0.6381 - val_root_mean_squared_error: 0.2483\n",
            "Epoch 55/100\n",
            "1125/1125 [==============================] - 4s 3ms/step - loss: 0.5852 - root_mean_squared_error: 0.1906 - val_loss: 0.6379 - val_root_mean_squared_error: 0.2481\n",
            "Epoch 56/100\n",
            "1125/1125 [==============================] - 4s 3ms/step - loss: 0.5861 - root_mean_squared_error: 0.1914 - val_loss: 0.6380 - val_root_mean_squared_error: 0.2482\n",
            "Epoch 57/100\n",
            "1125/1125 [==============================] - 3s 3ms/step - loss: 0.5844 - root_mean_squared_error: 0.1896 - val_loss: 0.6377 - val_root_mean_squared_error: 0.2478\n",
            "Epoch 58/100\n",
            "1125/1125 [==============================] - 3s 3ms/step - loss: 0.5847 - root_mean_squared_error: 0.1900 - val_loss: 0.6373 - val_root_mean_squared_error: 0.2475\n",
            "Epoch 59/100\n",
            "1125/1125 [==============================] - 4s 3ms/step - loss: 0.5854 - root_mean_squared_error: 0.1906 - val_loss: 0.6370 - val_root_mean_squared_error: 0.2471\n",
            "Epoch 60/100\n",
            "1125/1125 [==============================] - 3s 3ms/step - loss: 0.5851 - root_mean_squared_error: 0.1904 - val_loss: 0.6366 - val_root_mean_squared_error: 0.2467\n",
            "Epoch 61/100\n",
            "1125/1125 [==============================] - 3s 3ms/step - loss: 0.5844 - root_mean_squared_error: 0.1895 - val_loss: 0.6367 - val_root_mean_squared_error: 0.2468\n",
            "Epoch 62/100\n",
            "1125/1125 [==============================] - 4s 3ms/step - loss: 0.5852 - root_mean_squared_error: 0.1905 - val_loss: 0.6364 - val_root_mean_squared_error: 0.2465\n",
            "Epoch 63/100\n",
            "1125/1125 [==============================] - 4s 3ms/step - loss: 0.5847 - root_mean_squared_error: 0.1900 - val_loss: 0.6364 - val_root_mean_squared_error: 0.2465\n",
            "Epoch 64/100\n",
            "1125/1125 [==============================] - 3s 3ms/step - loss: 0.5848 - root_mean_squared_error: 0.1900 - val_loss: 0.6363 - val_root_mean_squared_error: 0.2463\n",
            "Epoch 65/100\n",
            "1125/1125 [==============================] - 4s 3ms/step - loss: 0.5844 - root_mean_squared_error: 0.1896 - val_loss: 0.6361 - val_root_mean_squared_error: 0.2461\n",
            "Epoch 66/100\n",
            "1125/1125 [==============================] - 3s 3ms/step - loss: 0.5843 - root_mean_squared_error: 0.1896 - val_loss: 0.6360 - val_root_mean_squared_error: 0.2460\n",
            "Epoch 67/100\n",
            "1125/1125 [==============================] - 3s 3ms/step - loss: 0.5848 - root_mean_squared_error: 0.1902 - val_loss: 0.6357 - val_root_mean_squared_error: 0.2457\n",
            "Epoch 68/100\n",
            "1125/1125 [==============================] - 4s 3ms/step - loss: 0.5852 - root_mean_squared_error: 0.1904 - val_loss: 0.6356 - val_root_mean_squared_error: 0.2456\n",
            "Epoch 69/100\n",
            "1125/1125 [==============================] - 4s 3ms/step - loss: 0.5848 - root_mean_squared_error: 0.1902 - val_loss: 0.6352 - val_root_mean_squared_error: 0.2452\n",
            "Epoch 70/100\n",
            "1125/1125 [==============================] - 3s 3ms/step - loss: 0.5846 - root_mean_squared_error: 0.1899 - val_loss: 0.6352 - val_root_mean_squared_error: 0.2451\n",
            "Epoch 71/100\n",
            "1125/1125 [==============================] - 3s 3ms/step - loss: 0.5854 - root_mean_squared_error: 0.1908 - val_loss: 0.6349 - val_root_mean_squared_error: 0.2449\n",
            "Epoch 72/100\n",
            "1125/1125 [==============================] - 3s 3ms/step - loss: 0.5850 - root_mean_squared_error: 0.1903 - val_loss: 0.6348 - val_root_mean_squared_error: 0.2447\n",
            "Epoch 73/100\n",
            "1125/1125 [==============================] - 4s 3ms/step - loss: 0.5844 - root_mean_squared_error: 0.1896 - val_loss: 0.6346 - val_root_mean_squared_error: 0.2444\n",
            "Epoch 74/100\n",
            "1125/1125 [==============================] - 4s 3ms/step - loss: 0.5845 - root_mean_squared_error: 0.1898 - val_loss: 0.6344 - val_root_mean_squared_error: 0.2442\n",
            "Epoch 75/100\n",
            "1125/1125 [==============================] - 3s 3ms/step - loss: 0.5851 - root_mean_squared_error: 0.1905 - val_loss: 0.6343 - val_root_mean_squared_error: 0.2441\n",
            "Epoch 76/100\n",
            "1125/1125 [==============================] - 4s 3ms/step - loss: 0.5840 - root_mean_squared_error: 0.1894 - val_loss: 0.6341 - val_root_mean_squared_error: 0.2439\n",
            "Epoch 77/100\n",
            "1125/1125 [==============================] - 3s 3ms/step - loss: 0.5846 - root_mean_squared_error: 0.1900 - val_loss: 0.6341 - val_root_mean_squared_error: 0.2439\n",
            "Epoch 78/100\n",
            "1125/1125 [==============================] - 4s 3ms/step - loss: 0.5849 - root_mean_squared_error: 0.1902 - val_loss: 0.6337 - val_root_mean_squared_error: 0.2435\n",
            "Epoch 79/100\n",
            "1125/1125 [==============================] - 3s 3ms/step - loss: 0.5838 - root_mean_squared_error: 0.1890 - val_loss: 0.6337 - val_root_mean_squared_error: 0.2435\n",
            "Epoch 80/100\n",
            "1125/1125 [==============================] - 3s 3ms/step - loss: 0.5847 - root_mean_squared_error: 0.1900 - val_loss: 0.6334 - val_root_mean_squared_error: 0.2431\n",
            "Epoch 81/100\n",
            "1125/1125 [==============================] - 4s 3ms/step - loss: 0.5845 - root_mean_squared_error: 0.1898 - val_loss: 0.6333 - val_root_mean_squared_error: 0.2429\n",
            "Epoch 82/100\n",
            "1125/1125 [==============================] - 4s 3ms/step - loss: 0.5842 - root_mean_squared_error: 0.1895 - val_loss: 0.6332 - val_root_mean_squared_error: 0.2429\n",
            "Epoch 83/100\n",
            "1125/1125 [==============================] - 4s 3ms/step - loss: 0.5845 - root_mean_squared_error: 0.1897 - val_loss: 0.6332 - val_root_mean_squared_error: 0.2429\n",
            "Epoch 84/100\n",
            "1125/1125 [==============================] - 4s 3ms/step - loss: 0.5849 - root_mean_squared_error: 0.1903 - val_loss: 0.6330 - val_root_mean_squared_error: 0.2426\n",
            "Epoch 85/100\n",
            "1125/1125 [==============================] - 4s 3ms/step - loss: 0.5845 - root_mean_squared_error: 0.1899 - val_loss: 0.6326 - val_root_mean_squared_error: 0.2422\n",
            "Epoch 86/100\n",
            "1125/1125 [==============================] - 5s 5ms/step - loss: 0.5843 - root_mean_squared_error: 0.1897 - val_loss: 0.6326 - val_root_mean_squared_error: 0.2421\n",
            "Epoch 87/100\n",
            "1125/1125 [==============================] - 4s 3ms/step - loss: 0.5847 - root_mean_squared_error: 0.1900 - val_loss: 0.6321 - val_root_mean_squared_error: 0.2416\n",
            "Epoch 88/100\n",
            "1125/1125 [==============================] - 4s 3ms/step - loss: 0.5842 - root_mean_squared_error: 0.1893 - val_loss: 0.6323 - val_root_mean_squared_error: 0.2418\n",
            "Epoch 89/100\n",
            "1125/1125 [==============================] - 4s 3ms/step - loss: 0.5842 - root_mean_squared_error: 0.1896 - val_loss: 0.6319 - val_root_mean_squared_error: 0.2414\n",
            "Epoch 90/100\n",
            "1125/1125 [==============================] - 3s 3ms/step - loss: 0.5839 - root_mean_squared_error: 0.1892 - val_loss: 0.6320 - val_root_mean_squared_error: 0.2414\n",
            "Epoch 91/100\n",
            "1125/1125 [==============================] - 3s 3ms/step - loss: 0.5839 - root_mean_squared_error: 0.1890 - val_loss: 0.6320 - val_root_mean_squared_error: 0.2414\n",
            "Epoch 92/100\n",
            "1125/1125 [==============================] - 3s 3ms/step - loss: 0.5846 - root_mean_squared_error: 0.1900 - val_loss: 0.6319 - val_root_mean_squared_error: 0.2413\n",
            "Epoch 93/100\n",
            "1125/1125 [==============================] - 4s 3ms/step - loss: 0.5843 - root_mean_squared_error: 0.1896 - val_loss: 0.6315 - val_root_mean_squared_error: 0.2408\n",
            "Epoch 94/100\n",
            "1125/1125 [==============================] - 3s 3ms/step - loss: 0.5846 - root_mean_squared_error: 0.1900 - val_loss: 0.6315 - val_root_mean_squared_error: 0.2408\n",
            "Epoch 95/100\n",
            "1125/1125 [==============================] - 3s 3ms/step - loss: 0.5842 - root_mean_squared_error: 0.1895 - val_loss: 0.6313 - val_root_mean_squared_error: 0.2406\n",
            "Epoch 96/100\n",
            "1125/1125 [==============================] - 4s 3ms/step - loss: 0.5844 - root_mean_squared_error: 0.1898 - val_loss: 0.6316 - val_root_mean_squared_error: 0.2409\n",
            "Epoch 97/100\n",
            "1125/1125 [==============================] - 3s 3ms/step - loss: 0.5837 - root_mean_squared_error: 0.1891 - val_loss: 0.6311 - val_root_mean_squared_error: 0.2403\n",
            "Epoch 98/100\n",
            "1125/1125 [==============================] - 3s 3ms/step - loss: 0.5844 - root_mean_squared_error: 0.1896 - val_loss: 0.6318 - val_root_mean_squared_error: 0.2410\n",
            "Epoch 99/100\n",
            "1125/1125 [==============================] - 3s 3ms/step - loss: 0.5847 - root_mean_squared_error: 0.1903 - val_loss: 0.6306 - val_root_mean_squared_error: 0.2398\n",
            "Epoch 100/100\n",
            "1125/1125 [==============================] - 6s 5ms/step - loss: 0.5841 - root_mean_squared_error: 0.1894 - val_loss: 0.6320 - val_root_mean_squared_error: 0.2412\n"
          ]
        }
      ]
    },
    {
      "cell_type": "markdown",
      "source": [
        "## Visualization"
      ],
      "metadata": {
        "id": "lg3e31cJ4hhF"
      }
    },
    {
      "cell_type": "markdown",
      "source": [
        "We have done training the model. We can visualize our result in a line chart."
      ],
      "metadata": {
        "id": "B8lpz0IO4jMx"
      }
    },
    {
      "cell_type": "code",
      "source": [
        "import matplotlib.pyplot as plt\n",
        "\n",
        "plt.plot(history.history['root_mean_squared_error'])\n",
        "plt.plot(history.history['val_root_mean_squared_error'])\n",
        "plt.title('Model Metrics')\n",
        "plt.ylabel('root_mean_squared_error')\n",
        "plt.xlabel('epoch')\n",
        "plt.legend(['train', 'test'], loc='upper left')\n",
        "plt.show()"
      ],
      "metadata": {
        "colab": {
          "base_uri": "https://localhost:8080/",
          "height": 295
        },
        "id": "A1OX4p7c47EX",
        "outputId": "bab11af2-3117-44c2-aee4-02dc97c6dbaa"
      },
      "execution_count": 24,
      "outputs": [
        {
          "output_type": "display_data",
          "data": {
            "text/plain": [
              "<Figure size 432x288 with 1 Axes>"
            ],
            "image/png": "[encoded data removed]"
          },
          "metadata": {
            "needs_background": "light"
          }
        }
      ]
    },
    {
      "cell_type": "markdown",
      "source": [
        "## Model Testing"
      ],
      "metadata": {
        "id": "xyLV3tTF5QpS"
      }
    },
    {
      "cell_type": "markdown",
      "source": [
        "It is time that we try our model. First we prepare a user sample and all the informations needed for that specific user."
      ],
      "metadata": {
        "id": "wXSsEq_I5Yhz"
      }
    },
    {
      "cell_type": "code",
      "source": [
        "import numpy as np\n",
        "\n",
        "# Get User Sample\n",
        "user_id = rating.userId.sample(1).iloc[0]\n",
        "\n",
        "# Get Movies that has been watched by the user\n",
        "movie_watched_by_user = rating[rating.userId == user_id]\n",
        "print(movie_watched_by_user)\n",
        " \n",
        "# Get Movies that have not been watched by the user\n",
        "movie_not_watched = movie[(~movie['id'].isin(movie_watched_by_user.movieId.map(lambda x: str(x)).values))]['id']\n",
        "movie_not_watched = list(\n",
        "    set(movie_not_watched).intersection(set(movie_to_movie_encoded.keys()))\n",
        ")\n",
        " \n",
        "# Encode the movie\n",
        "movie_not_watched = [[movie_to_movie_encoded.get(x)] for x in movie_not_watched]\n",
        "# Encode the user\n",
        "user_encoder = user_to_user_encoded.get(user_id)\n",
        "\n",
        "user_movie_array = np.hstack(\n",
        "    ([[user_encoder]] * len(movie_not_watched), movie_not_watched)\n",
        ")\n",
        "print(user_movie_array)"
      ],
      "metadata": {
        "colab": {
          "base_uri": "https://localhost:8080/"
        },
        "id": "Ypc5Noj35ndJ",
        "outputId": "177746b1-eb93-4d3b-9604-1c8ad9fae641"
      },
      "execution_count": 25,
      "outputs": [
        {
          "output_type": "stream",
          "name": "stdout",
          "text": [
            "       userId  movieId  rating  user  movie\n",
            "86490     580        2     3.5   579    316\n",
            "86491     580        6     3.5   579    318\n",
            "86492     580       12     3.0   579   1251\n",
            "86493     580       16     3.5   579    321\n",
            "86494     580       19     1.5   579    322\n",
            "...       ...      ...     ...   ...    ...\n",
            "87352     580    60760     3.5   579   2717\n",
            "87358     580    62394     2.0   579   1380\n",
            "87378     580    68954     4.0   579    648\n",
            "87386     580    71732     3.0   579   2210\n",
            "87405     580    74458     4.0   579    653\n",
            "\n",
            "[397 rows x 5 columns]\n",
            "[[ 579 1844]\n",
            " [ 579 1176]\n",
            " [ 579  829]\n",
            " ...\n",
            " [ 579 1959]\n",
            " [ 579 1601]\n",
            " [ 579  438]]\n"
          ]
        }
      ]
    },
    {
      "cell_type": "markdown",
      "source": [
        "Finally, we can retrive the recommended movie for the specified user"
      ],
      "metadata": {
        "id": "Vo2yLpXG_hw8"
      }
    },
    {
      "cell_type": "code",
      "source": [
        "ratings = model.predict(user_movie_array).flatten()\n",
        " \n",
        "top_ratings_indices = ratings.argsort()[-10:][::-1]\n",
        "recommended_movie_ids = [\n",
        "    movie_encoded_to_movie.get(movie_not_watched[x][0]) for x in top_ratings_indices\n",
        "]\n",
        " \n",
        "print(f'Showing recommendations for users: {user_id}')\n",
        "print('====' * 8)\n",
        "print('Highest Movie Rating from User:')\n",
        "print('----' * 8)\n",
        " \n",
        "top_movie_user = (\n",
        "    movie_watched_by_user.sort_values(\n",
        "        by = 'rating',\n",
        "        ascending=False\n",
        "    ).head(5).movieId.map(lambda x: str(x)).values\n",
        ")\n",
        "\n",
        " \n",
        "movie_rows = movie[movie['id'].isin(top_movie_user)][:5]\n",
        "for row in movie_rows.itertuples():\n",
        "    print(row.title, ':', row.genres)\n",
        " \n",
        "print('----' * 8)\n",
        "print('Top 10 Movie Recommendation')\n",
        "print('----' * 8)\n",
        " \n",
        "recommended_movie = movie[movie['id'].isin(recommended_movie_ids)]\n",
        "for row in recommended_movie.itertuples():\n",
        "    print(row.title, ':', row.genres)"
      ],
      "metadata": {
        "colab": {
          "base_uri": "https://localhost:8080/"
        },
        "id": "O2Kc1ov6_lIs",
        "outputId": "0bd07754-3f1a-4785-8ea7-234c164dd540"
      },
      "execution_count": 26,
      "outputs": [
        {
          "output_type": "stream",
          "name": "stdout",
          "text": [
            "Showing recommendations for users: 580\n",
            "================================\n",
            "Highest Movie Rating from User:\n",
            "--------------------------------\n",
            "Sleepless in Seattle : Comedy, Drama, Romance\n",
            "High Noon : Western\n",
            "Wish You Were Here : Comedy, Drama, Foreign, Romance\n",
            "License to Wed : Comedy\n",
            "Confession of a Child of the Century : Drama\n",
            "--------------------------------\n",
            "Top 10 Movie Recommendation\n",
            "--------------------------------\n",
            "The Celebration : Drama\n",
            "The Sugarland Express : Crime, Drama\n",
            "Gentlemen Prefer Blondes : Comedy, Romance\n",
            "Wuthering Heights : Drama, Romance\n",
            "The Enforcer : Drama, Action, Crime\n",
            "Before Sunset : Drama, Romance\n",
            "Tokyo! : Romance, Drama\n",
            "The Hunter : Drama, Thriller\n",
            "Deadlier Than the Male : Action, Comedy, Thriller\n",
            "Long Pigs : Crime, Horror\n"
          ]
        }
      ]
    }
  ]
}